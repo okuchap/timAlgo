{
 "cells": [
  {
   "cell_type": "markdown",
   "metadata": {
    "toc": "true"
   },
   "source": [
    "# Table of Contents\n",
    " <p><div class=\"lev1 toc-item\"><a href=\"#The-Push-relabel-Algorithm\" data-toc-modified-id=\"The-Push-relabel-Algorithm-1\"><span class=\"toc-item-num\">1&nbsp;&nbsp;</span>The Push-relabel Algorithm</a></div><div class=\"lev2 toc-item\"><a href=\"#Initialization\" data-toc-modified-id=\"Initialization-11\"><span class=\"toc-item-num\">1.1&nbsp;&nbsp;</span>Initialization</a></div><div class=\"lev2 toc-item\"><a href=\"#Push\" data-toc-modified-id=\"Push-12\"><span class=\"toc-item-num\">1.2&nbsp;&nbsp;</span>Push</a></div><div class=\"lev2 toc-item\"><a href=\"#Main-Loop\" data-toc-modified-id=\"Main-Loop-13\"><span class=\"toc-item-num\">1.3&nbsp;&nbsp;</span>Main Loop</a></div><div class=\"lev1 toc-item\"><a href=\"#Summary\" data-toc-modified-id=\"Summary-2\"><span class=\"toc-item-num\">2&nbsp;&nbsp;</span>Summary</a></div>"
   ]
  },
  {
   "cell_type": "markdown",
   "metadata": {},
   "source": [
    "# The Push-relabel Algorithm"
   ]
  },
  {
   "cell_type": "markdown",
   "metadata": {},
   "source": [
    "Push-relabel algorithmを実装してみる。"
   ]
  },
  {
   "cell_type": "markdown",
   "metadata": {},
   "source": [
    "## Initialization"
   ]
  },
  {
   "cell_type": "markdown",
   "metadata": {},
   "source": [
    "Initializeがきちんと動くか確認してみる。"
   ]
  },
  {
   "cell_type": "code",
   "execution_count": 17,
   "metadata": {
    "code_folding": [
     0
    ],
    "collapsed": true
   },
   "outputs": [],
   "source": [
    "def Initialize(G, s, t):\n",
    "    '''\n",
    "    Inputs:\n",
    "        G: a graph\n",
    "            V: verteces\n",
    "                height\n",
    "                excess\n",
    "            E: edges\n",
    "                flow(preflow)\n",
    "                capacity\n",
    "                    NB: flow <= capacity\n",
    "        s: a start point\n",
    "        t: an end point\n",
    "    Output:\n",
    "        None\n",
    "    \n",
    "    Initialize the height and excess of each vertex.\n",
    "    '''\n",
    "    for v in G.nodes():\n",
    "        G.node[v]['excess'] = 0\n",
    "\n",
    "    for v in G.nodes():\n",
    "        # 始点以外の点について\n",
    "        if v != s:\n",
    "            G.node[v]['height'] = 0\n",
    "            # G.node[v]['excess'] = 0\n",
    "            for p in G.neighbors(v):\n",
    "                G[v][p]['flow'] = 0\n",
    "        # 始点について\n",
    "        else:\n",
    "            # 始点の高さをnに\n",
    "            G.node[v]['height'] = G.number_of_nodes() # n\n",
    "            # 始点から出る枝のpreflowをcapacityギリギリに\n",
    "            # このとき、始点に隣接する点のexcessを更新\n",
    "            for p in G.neighbors(v):\n",
    "                G[v][p]['flow'] = G[v][p]['capacity']\n",
    "                G.node[p]['excess'] = G[v][p]['flow']"
   ]
  },
  {
   "cell_type": "code",
   "execution_count": 18,
   "metadata": {
    "code_folding": [
     0
    ],
    "collapsed": false,
    "scrolled": false
   },
   "outputs": [
    {
     "data": {
      "image/png": "[encoded data removed]",
      "text/plain": [
       "<matplotlib.figure.Figure at 0x10edbf358>"
      ]
     },
     "metadata": {},
     "output_type": "display_data"
    }
   ],
   "source": [
    "# もろもろをインポート\n",
    "import networkx as nx\n",
    "import matplotlib.pyplot as plt\n",
    "from collections import deque\n",
    "\n",
    "# Lecture1の例のグラフGを生成\n",
    "G = nx.DiGraph()\n",
    "G.add_edges_from([('s','v',{'capacity': 3}),('s','w',{'capacity': 2}),('v','w',{'capacity': 5}),('v','t',{'capacity': 2}),('w','t',{'capacity': 3})])\n",
    "for e in G.edges():\n",
    "    G[e[0]][e[1]]['flow'] = 0\n",
    "\n",
    "# 描画\n",
    "\n",
    "pos={'s':(0,2),'v':(3,4),'w':(3,0),'t':(6,2)}\n",
    "edge_labels = {(i, j): (w['capacity'], str((w['flow'])) ) for i, j, w in G.edges(data=True)}\n",
    "nx.draw_networkx_edge_labels(G, pos, edge_labels=edge_labels, font_color='r')\n",
    "nx.draw_networkx_labels(G, pos)\n",
    "nx.draw(G, pos)\n",
    "plt.axis('off')\n",
    "plt.show()"
   ]
  },
  {
   "cell_type": "code",
   "execution_count": 19,
   "metadata": {
    "collapsed": false
   },
   "outputs": [],
   "source": [
    "Initialize(G, 's', 't')"
   ]
  },
  {
   "cell_type": "code",
   "execution_count": 20,
   "metadata": {
    "collapsed": false
   },
   "outputs": [
    {
     "data": {
      "text/plain": [
       "4"
      ]
     },
     "execution_count": 20,
     "metadata": {},
     "output_type": "execute_result"
    }
   ],
   "source": [
    "G.node['s']['height']"
   ]
  },
  {
   "cell_type": "code",
   "execution_count": 21,
   "metadata": {
    "collapsed": false
   },
   "outputs": [
    {
     "data": {
      "text/plain": [
       "0"
      ]
     },
     "execution_count": 21,
     "metadata": {},
     "output_type": "execute_result"
    }
   ],
   "source": [
    "G.node['v']['height']"
   ]
  },
  {
   "cell_type": "code",
   "execution_count": 22,
   "metadata": {
    "collapsed": false
   },
   "outputs": [
    {
     "data": {
      "text/plain": [
       "0"
      ]
     },
     "execution_count": 22,
     "metadata": {},
     "output_type": "execute_result"
    }
   ],
   "source": [
    "G.node['t']['height']"
   ]
  },
  {
   "cell_type": "code",
   "execution_count": 23,
   "metadata": {
    "collapsed": false,
    "scrolled": true
   },
   "outputs": [
    {
     "data": {
      "text/plain": [
       "['s', 't', 'w', 'v']"
      ]
     },
     "execution_count": 23,
     "metadata": {},
     "output_type": "execute_result"
    }
   ],
   "source": [
    "G.nodes()"
   ]
  },
  {
   "cell_type": "code",
   "execution_count": 24,
   "metadata": {
    "collapsed": false
   },
   "outputs": [
    {
     "name": "stdout",
     "output_type": "stream",
     "text": [
      "the excess of the node t: 0\n",
      "the excess of the node w: 2\n",
      "the excess of the node v: 3\n"
     ]
    }
   ],
   "source": [
    "nodelist = G.nodes()\n",
    "nodelist.remove('s')\n",
    "for p in nodelist:\n",
    "    print( 'the excess of the node ' + p +': ' + str(G.node[p]['excess']))"
   ]
  },
  {
   "cell_type": "code",
   "execution_count": 25,
   "metadata": {
    "code_folding": [
     0
    ],
    "collapsed": false
   },
   "outputs": [
    {
     "data": {
      "image/png": "[encoded data removed]",
      "text/plain": [
       "<matplotlib.figure.Figure at 0x10edbf240>"
      ]
     },
     "metadata": {},
     "output_type": "display_data"
    }
   ],
   "source": [
    "# 描画(flowがどう変わったか)\n",
    "# heightも表示したいけどやり方がわからず\n",
    "\n",
    "pos={'s':(0,2),'v':(3,4),'w':(3,0),'t':(6,2)}\n",
    "edge_labels = {(i, j): (w['capacity'], str((w['flow'])) ) for i, j, w in G.edges(data=True)}\n",
    "nx.draw_networkx_edge_labels(G, pos, edge_labels=edge_labels, font_color='r')\n",
    "nx.draw_networkx_labels(G, pos)\n",
    "nx.draw(G, pos)\n",
    "plt.axis('off')\n",
    "plt.show()"
   ]
  },
  {
   "cell_type": "markdown",
   "metadata": {},
   "source": [
    "上手く動いているみたいだ。"
   ]
  },
  {
   "cell_type": "markdown",
   "metadata": {},
   "source": [
    "## Push"
   ]
  },
  {
   "cell_type": "code",
   "execution_count": 26,
   "metadata": {
    "code_folding": [
     0
    ],
    "collapsed": true
   },
   "outputs": [],
   "source": [
    "def makeResidualGraph(G):\n",
    "    '''\n",
    "    Input: a graph G\n",
    "    Output: its residual graph Gf\n",
    "    '''\n",
    "    Gf = G.copy()\n",
    "    edgeList = G.edges()\n",
    "    \n",
    "    # 逆向きのedgeがないものは追加\n",
    "    for edge in edgeList:\n",
    "        if not (edge[1], edge[0]) in edgeList:\n",
    "            Gf.add_edge(edge[1],edge[0])\n",
    "            Gf[edge[1]][edge[0]]['capacity'] = Gf[edge[0]][edge[1]]['flow']\n",
    "            Gf[edge[1]][edge[0]]['flow'] = 0\n",
    "    \n",
    "    for edge in edgeList:\n",
    "        Gf[edge[0]][edge[1]]['capacity'] = Gf[edge[0]][edge[1]]['capacity'] - Gf[edge[0]][edge[1]]['flow']\n",
    "        Gf[edge[1]][edge[0]]['capacity'] = Gf[edge[0]][edge[1]]['flow']\n",
    "        Gf[edge[0]][edge[1]]['flow'] = 0\n",
    "        Gf[edge[1]][edge[0]]['flow'] = 0\n",
    "    \n",
    "    return Gf"
   ]
  },
  {
   "cell_type": "code",
   "execution_count": 27,
   "metadata": {
    "code_folding": [],
    "collapsed": true
   },
   "outputs": [],
   "source": [
    "import numpy as np\n",
    "def Push(G, v, w, forwardEdges):\n",
    "    '''\n",
    "    G: a graph(a residual graph)\n",
    "    v, w: vertices of G such that h(v) = h(w) + 1\n",
    "    forwardEdges: a list of the edges of the original graph\n",
    "    '''\n",
    "\n",
    "    # 更新量diffを計算\n",
    "    residualCapacity = G[v][w]['capacity'] - G[v][w]['flow']\n",
    "    diff = np.min([G.node[v]['excess'], residualCapacity])\n",
    "\n",
    "    # (v,w), (w,v)を更新, p.3を参考に\n",
    "    if (v,w) in forwardEdges:\n",
    "        G[v][w]['flow'] += diff\n",
    "        G[w][v]['capacity'] += diff\n",
    "        G.node[v]['excess'] -= diff\n",
    "        G.node[w]['excess'] += diff\n",
    "    else:\n",
    "        G[v][w]['flow'] -= diff\n",
    "        G[w][v]['capacity'] -= diff\n",
    "        G.node[v]['excess'] += diff\n",
    "        G.node[w]['excess'] -= diff"
   ]
  },
  {
   "cell_type": "markdown",
   "metadata": {},
   "source": [
    "## Main Loop"
   ]
  },
  {
   "cell_type": "code",
   "execution_count": 28,
   "metadata": {
    "code_folding": [],
    "collapsed": false
   },
   "outputs": [],
   "source": [
    "def loopCondition(G, s, t):\n",
    "    nodelist = G.nodes()\n",
    "    nodelist.remove(s)\n",
    "    nodelist.remove(t)\n",
    "\n",
    "    for v in nodelist:\n",
    "        if(G.node[v]['excess'] > 0):\n",
    "            return True\n",
    "    return False\n",
    "\n",
    "def PushRelabel(G, s, t):\n",
    "    '''\n",
    "    Inputs:\n",
    "        G: a graph\n",
    "        s: a starting point\n",
    "        t: an end point\n",
    "    Output:\n",
    "        the graph G with its maximum flow\n",
    "    '''\n",
    "\n",
    "    # Forward Edges を記録\n",
    "    forwardEdges = G.edges()\n",
    "\n",
    "    # s,tを除いたnodeのlistを作る\n",
    "    nodeList = G.nodes()\n",
    "    nodeList.remove(s)\n",
    "    nodeList.remove(t)\n",
    "\n",
    "    # residual graph の作成\n",
    "    Gf = makeResidualGraph(G)\n",
    "\n",
    "    # Initialization\n",
    "    Initialize(Gf, s, t)\n",
    "\n",
    "    # Main Loop\n",
    "    while(loopCondition(Gf, s, t)):\n",
    "        # 高さが最も高く、かつexcess > 0の点を探す\n",
    "        height = -100 # 適当に負の値を設定\n",
    "        for p in nodeList:\n",
    "            if(Gf.node[p]['excess'] > 0 and Gf.node[p]['height'] > height):\n",
    "                v = p\n",
    "                height = Gf.node[p]['height']\n",
    "\n",
    "        # h(v) = h(w) + 1 を満たす点wを探す\n",
    "        w = None\n",
    "        for p in Gf.nodes():\n",
    "            if(Gf.node[v]['height'] == Gf.node[p]['height'] + 1 and (Gf[v][p]['capacity'] - Gf[v][p]['flow']) > 0):\n",
    "                w = p\n",
    "                break\n",
    "\n",
    "        # そのような点wがない場合、increment h(v)\n",
    "        if w == None:\n",
    "            Gf.node[v]['height'] += 1\n",
    "\n",
    "        # ある場合\n",
    "        else:\n",
    "            Push(Gf, v, w, forwardEdges)\n",
    "\n",
    "    # もともと無かったedgeを消去\n",
    "    for edge in Gf.edges():\n",
    "        if not edge in forwardEdges:\n",
    "            Gf.remove_edge(edge[0],edge[1])\n",
    "    \n",
    "    return Gf"
   ]
  },
  {
   "cell_type": "markdown",
   "metadata": {},
   "source": [
    "*PushRelabel* が動くかどうか試してみる"
   ]
  },
  {
   "cell_type": "code",
   "execution_count": 29,
   "metadata": {
    "code_folding": [
     0
    ],
    "collapsed": false
   },
   "outputs": [
    {
     "data": {
      "image/png": "[encoded data removed]",
      "text/plain": [
       "<matplotlib.figure.Figure at 0x10f485f60>"
      ]
     },
     "metadata": {},
     "output_type": "display_data"
    }
   ],
   "source": [
    "# もろもろをインポート\n",
    "import networkx as nx\n",
    "import matplotlib.pyplot as plt\n",
    "from collections import deque\n",
    "\n",
    "# Lecture1の例のグラフGを生成\n",
    "G = nx.DiGraph()\n",
    "G.add_edges_from([('s','v',{'capacity': 3}),('s','w',{'capacity': 2}),('v','w',{'capacity': 5}),('v','t',{'capacity': 2}),('w','t',{'capacity': 3})])\n",
    "for e in G.edges():\n",
    "    G[e[0]][e[1]]['flow'] = 0\n",
    "\n",
    "# 描画\n",
    "\n",
    "pos={'s':(0,2),'v':(3,4),'w':(3,0),'t':(6,2)}\n",
    "edge_labels = {(i, j): (w['capacity'], str((w['flow'])) ) for i, j, w in G.edges(data=True)}\n",
    "nx.draw_networkx_edge_labels(G, pos, edge_labels=edge_labels, font_color='r')\n",
    "nx.draw_networkx_labels(G, pos)\n",
    "nx.draw(G, pos)\n",
    "plt.axis('off')\n",
    "plt.show()"
   ]
  },
  {
   "cell_type": "code",
   "execution_count": 30,
   "metadata": {
    "collapsed": false
   },
   "outputs": [],
   "source": [
    "G = PushRelabel(G, 's', 't')"
   ]
  },
  {
   "cell_type": "code",
   "execution_count": 31,
   "metadata": {
    "code_folding": [
     0
    ],
    "collapsed": false
   },
   "outputs": [
    {
     "data": {
      "image/png": "[encoded data removed]",
      "text/plain": [
       "<matplotlib.figure.Figure at 0x10f419160>"
      ]
     },
     "metadata": {},
     "output_type": "display_data"
    }
   ],
   "source": [
    "# 描画(flowがどう変わったか)\n",
    "# heightも表示したいけどやり方がわからず\n",
    "\n",
    "pos={'s':(0,2),'v':(3,4),'w':(3,0),'t':(6,2)}\n",
    "edge_labels = {(i, j): (w['capacity'], str((w['flow'])) ) for i, j, w in G.edges(data=True)}\n",
    "nx.draw_networkx_edge_labels(G, pos, edge_labels=edge_labels, font_color='r')\n",
    "nx.draw_networkx_labels(G, pos)\n",
    "nx.draw(G, pos)\n",
    "plt.axis('off')\n",
    "plt.show()"
   ]
  },
  {
   "cell_type": "markdown",
   "metadata": {},
   "source": [
    "上手く動いていそう"
   ]
  },
  {
   "cell_type": "markdown",
   "metadata": {},
   "source": [
    "# Summary"
   ]
  },
  {
   "cell_type": "markdown",
   "metadata": {},
   "source": [
    "最後に、今回作った関数をまとめておく。\n",
    "\n",
    "*ch03_pushrelabel.py*というファイルで保存してある。"
   ]
  },
  {
   "cell_type": "code",
   "execution_count": 32,
   "metadata": {
    "code_folding": [
     0,
     38,
     61,
     71
    ],
    "collapsed": true
   },
   "outputs": [],
   "source": [
    "def Initialize(G, s, t):\n",
    "    '''\n",
    "    Inputs:\n",
    "        G: a graph\n",
    "            V: verteces\n",
    "                height\n",
    "                excess\n",
    "            E: edges\n",
    "                flow(preflow)\n",
    "                capacity\n",
    "                    NB: flow <= capacity\n",
    "        s: a start point\n",
    "        t: an end point\n",
    "    Output:\n",
    "        None\n",
    "    \n",
    "    Initialize the height and excess of each vertex.\n",
    "    '''\n",
    "    for v in G.nodes():\n",
    "        G.node[v]['excess'] = 0\n",
    "\n",
    "    for v in G.nodes():\n",
    "        # 始点以外の点について\n",
    "        if v != s:\n",
    "            G.node[v]['height'] = 0\n",
    "            # G.node[v]['excess'] = 0\n",
    "            for p in G.neighbors(v):\n",
    "                G[v][p]['flow'] = 0\n",
    "        # 始点について\n",
    "        else:\n",
    "            # 始点の高さをnに\n",
    "            G.node[v]['height'] = G.number_of_nodes() # n\n",
    "            # 始点から出る枝のpreflowをcapacityギリギリに\n",
    "            # このとき、始点に隣接する点のexcessを更新\n",
    "            for p in G.neighbors(v):\n",
    "                G[v][p]['flow'] = G[v][p]['capacity']\n",
    "                G.node[p]['excess'] = G[v][p]['flow']\n",
    "\n",
    "def Push(G, v, w, forwardEdges):\n",
    "    '''\n",
    "    G: a graph(a residual graph)\n",
    "    v, w: vertices of G such that h(v) = h(w) + 1\n",
    "    forwardEdges: a list of the edges of the original graph\n",
    "    '''\n",
    "\n",
    "    # 更新量diffを計算\n",
    "    residualCapacity = G[v][w]['capacity'] - G[v][w]['flow']\n",
    "    diff = np.min([G.node[v]['excess'], residualCapacity])\n",
    "\n",
    "    # (v,w), (w,v)を更新, p.3を参考に\n",
    "    if (v,w) in forwardEdges:\n",
    "        G[v][w]['flow'] += diff\n",
    "        G[w][v]['capacity'] += diff\n",
    "        G.node[v]['excess'] -= diff\n",
    "        G.node[w]['excess'] += diff\n",
    "    else:\n",
    "        G[v][w]['flow'] -= diff\n",
    "        G[w][v]['capacity'] -= diff\n",
    "        G.node[v]['excess'] += diff\n",
    "        G.node[w]['excess'] -= diff\n",
    "\n",
    "def loopCondition(G, s, t):\n",
    "    nodelist = G.nodes()\n",
    "    nodelist.remove(s)\n",
    "    nodelist.remove(t)\n",
    "\n",
    "    for v in nodelist:\n",
    "        if(G.node[v]['excess'] > 0):\n",
    "            return True\n",
    "    return False\n",
    "\n",
    "def PushRelabel(G, s, t):\n",
    "    '''\n",
    "    Inputs:\n",
    "        G: a graph\n",
    "        s: a starting point\n",
    "        t: an end point\n",
    "    Output:\n",
    "        the graph G with its maximum flow\n",
    "    '''\n",
    "\n",
    "    # Forward Edges を記録\n",
    "    forwardEdges = G.edges()\n",
    "\n",
    "    # s,tを除いたnodeのlistを作る\n",
    "    nodeList = G.nodes()\n",
    "    nodeList.remove(s)\n",
    "    nodeList.remove(t)\n",
    "\n",
    "    # residual graph の作成\n",
    "    Gf = makeResidualGraph(G)\n",
    "\n",
    "    # Initialization\n",
    "    Initialize(Gf, s, t)\n",
    "\n",
    "    # Main Loop\n",
    "    while(loopCondition(Gf, s, t)):\n",
    "        # 高さが最も高く、かつexcess > 0の点を探す\n",
    "        height = -100 # 適当に負の値を設定\n",
    "        for p in nodeList:\n",
    "            if(Gf.node[p]['excess'] > 0 and Gf.node[p]['height'] > height):\n",
    "                v = p\n",
    "                height = Gf.node[p]['height']\n",
    "\n",
    "        # h(v) = h(w) + 1 を満たす点wを探す\n",
    "        w = None\n",
    "        for p in Gf.nodes():\n",
    "            if(Gf.node[v]['height'] == Gf.node[p]['height'] + 1 and (Gf[v][p]['capacity'] - Gf[v][p]['flow']) > 0):\n",
    "                w = p\n",
    "                break\n",
    "\n",
    "        # そのような点wがない場合、increment h(v)\n",
    "        if w == None:\n",
    "            Gf.node[v]['height'] += 1\n",
    "\n",
    "        # ある場合\n",
    "        else:\n",
    "            Push(Gf, v, w, forwardEdges)\n",
    "\n",
    "    # もともと無かったedgeを消去\n",
    "    for edge in Gf.edges():\n",
    "        if not edge in forwardEdges:\n",
    "            Gf.remove_edge(edge[0],edge[1])\n",
    "    \n",
    "    return Gf"
   ]
  },
  {
   "cell_type": "markdown",
   "metadata": {},
   "source": [
    "例のグラフを作るのと、描画するのも便利なので、再掲しておく。"
   ]
  },
  {
   "cell_type": "code",
   "execution_count": 33,
   "metadata": {
    "code_folding": [
     0
    ],
    "collapsed": false
   },
   "outputs": [
    {
     "data": {
      "image/png": "[encoded data removed]",
      "text/plain": [
       "<matplotlib.figure.Figure at 0x10f874cf8>"
      ]
     },
     "metadata": {},
     "output_type": "display_data"
    }
   ],
   "source": [
    "# 例のグラフを作成\n",
    "\n",
    "# もろもろをインポート\n",
    "import networkx as nx\n",
    "import matplotlib.pyplot as plt\n",
    "from collections import deque\n",
    "\n",
    "# Lecture1の例のグラフGを生成\n",
    "G = nx.DiGraph()\n",
    "G.add_edges_from([('s','v',{'capacity': 3}),('s','w',{'capacity': 2}),('v','w',{'capacity': 5}),('v','t',{'capacity': 2}),('w','t',{'capacity': 3})])\n",
    "for e in G.edges():\n",
    "    G[e[0]][e[1]]['flow'] = 0\n",
    "\n",
    "# 描画\n",
    "\n",
    "pos={'s':(0,2),'v':(3,4),'w':(3,0),'t':(6,2)}\n",
    "edge_labels = {(i, j): (w['capacity'], str((w['flow'])) ) for i, j, w in G.edges(data=True)}\n",
    "nx.draw_networkx_edge_labels(G, pos, edge_labels=edge_labels, font_color='r')\n",
    "nx.draw_networkx_labels(G, pos)\n",
    "nx.draw(G, pos)\n",
    "plt.axis('off')\n",
    "plt.show()"
   ]
  },
  {
   "cell_type": "code",
   "execution_count": 34,
   "metadata": {
    "code_folding": [
     0
    ],
    "collapsed": false
   },
   "outputs": [
    {
     "data": {
      "image/png": "[encoded data removed]",
      "text/plain": [
       "<matplotlib.figure.Figure at 0x10f418ac8>"
      ]
     },
     "metadata": {},
     "output_type": "display_data"
    }
   ],
   "source": [
    "# 描画(flowがどう変わったか)\n",
    "# heightも表示したいけどやり方がわからず\n",
    "\n",
    "pos={'s':(0,2),'v':(3,4),'w':(3,0),'t':(6,2)}\n",
    "edge_labels = {(i, j): (w['capacity'], str((w['flow'])) ) for i, j, w in G.edges(data=True)}\n",
    "nx.draw_networkx_edge_labels(G, pos, edge_labels=edge_labels, font_color='r')\n",
    "nx.draw_networkx_labels(G, pos)\n",
    "nx.draw(G, pos)\n",
    "plt.axis('off')\n",
    "plt.show()"
   ]
  }
 ],
 "metadata": {
  "anaconda-cloud": {},
  "kernelspec": {
   "display_name": "Python [conda root]",
   "language": "python",
   "name": "conda-root-py"
  },
  "language_info": {
   "codemirror_mode": {
    "name": "ipython",
    "version": 3
   },
   "file_extension": ".py",
   "mimetype": "text/x-python",
   "name": "python",
   "nbconvert_exporter": "python",
   "pygments_lexer": "ipython3",
   "version": "3.5.2"
  },
  "toc": {
   "nav_menu": {
    "height": "30px",
    "width": "252px"
   },
   "navigate_menu": true,
   "number_sections": true,
   "sideBar": true,
   "threshold": 4,
   "toc_cell": true,
   "toc_number_sections": true,
   "toc_section_display": "block",
   "toc_threshold": 6,
   "toc_window_display": false
  }
 },
 "nbformat": 4,
 "nbformat_minor": 1
}
