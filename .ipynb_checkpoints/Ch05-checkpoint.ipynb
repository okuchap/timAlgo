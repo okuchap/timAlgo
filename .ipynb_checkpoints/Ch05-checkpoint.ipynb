{
 "cells": [
  {
   "cell_type": "markdown",
   "metadata": {},
   "source": [
    "# Minimum-Cost Bipartite Matching"
   ]
  },
  {
   "cell_type": "markdown",
   "metadata": {},
   "source": [
    "## The Hungarian Algorithm"
   ]
  },
  {
   "cell_type": "markdown",
   "metadata": {},
   "source": [
    "とりあえず、The Hungarian algorithmを実装してみた。未完成（バグあり）"
   ]
  },
  {
   "cell_type": "code",
   "execution_count": 44,
   "metadata": {
    "collapsed": true
   },
   "outputs": [],
   "source": [
    "import networkx as nx\n",
    "import matplotlib.pyplot as plt\n",
    "from collections import deque\n",
    "import numpy as np\n",
    "\n",
    "def Initialize_H(G):\n",
    "    '''\n",
    "    Initialize a matching M and prices of all vertices.\n",
    "    \n",
    "    Parameters\n",
    "    ----------\n",
    "    G = (V+W, E): a bipartite graph\n",
    "        V+W: vertices\n",
    "            price\n",
    "        E: edges\n",
    "            cost(nonnegative)\n",
    "    M: a list of the edges which are a subset of E, a graph attribute\n",
    "    \n",
    "    Return\n",
    "    ------\n",
    "    H: initialized graph with zero prices and an empty matching M\n",
    "    '''\n",
    "    \n",
    "    H = G.copy()\n",
    "    \n",
    "    # Initialize a matching\n",
    "    # graph attributeとして定義\n",
    "    H.graph['M_edges'] = []\n",
    "    H.graph['M_vertices'] = []\n",
    "    \n",
    "    # Initialize prices\n",
    "    for v in H.nodes():\n",
    "        H.node[v]['price'] = 0\n",
    "    \n",
    "    return H\n",
    "\n",
    "def BFS_GP(G, r, V, W):\n",
    "    '''\n",
    "    Implementing BFS modified for a good path\n",
    "    \n",
    "    Parameters\n",
    "    ----------\n",
    "    G=(V+W, E): a bipartite graph with a current matching M\n",
    "        V+W: vertices\n",
    "            p: prices\n",
    "        M: a current matching\n",
    "    r: the first unmatched vertex r of V(the root of a BFS tree)\n",
    "    Return\n",
    "    ------\n",
    "    a list (path, S, N)\n",
    "        path: a list of vertices representing a stucked path P, [r, ..., v]\n",
    "        S: even level vertices of the BFS tree\n",
    "        N: odd level ones\n",
    "    '''\n",
    "\n",
    "    def candidates(G, v, level):\n",
    "        '''return a list of vertices(say, candidates) that satisfy the condition(*):\n",
    "            1. adding (v,p) to the current path keep the path M-alternating\n",
    "            2. (v,p) is tight\n",
    "            3. p has not been reached before\n",
    "        If the length of the returned list is zero, BFS is stucked.\n",
    "        \n",
    "        Paremeters\n",
    "        ----------\n",
    "        G: a bipartite graph\n",
    "        v: a current node\n",
    "        level: a current level of BFS(v lies in level i of the BFS tree)\n",
    "\n",
    "        Return\n",
    "        ------\n",
    "        \n",
    "        '''\n",
    "\n",
    "        # Check if stucked or not\n",
    "        # level: odd のとき(v is in W)は、matchingに含まれる枝の中から探す必要あり\n",
    "        # level: even のとき(v is in V)は、まだ訪れていない(pastを使う)tight edgesから探す必要あり\n",
    "        if level%2 != 0:\n",
    "            # このときcandidatesには多くとも一点しか（vとmatchしている点）含まれないはず\n",
    "            candidates = [p for p in G.neighbors(v) if ( p in G.graph['M_vertices'] ) ]\n",
    "        else:\n",
    "            candidates = [p for p in G.neighbors(v) if ( (not p in past) and ( G[v][p]['cost'] - G.node[v]['price'] - G.node[p]['price'] == 0 ) )]\n",
    "\n",
    "        return candidates\n",
    "\n",
    "    # 過去に訪れた点を格納するためのリスト\n",
    "    past = []\n",
    "    # これから訪れる点を格納するためのqueue\n",
    "    future = deque()\n",
    "    # pathを格納するためのリスト\n",
    "    path = []\n",
    "    # BFS treeを格納するためのlist, S: even level, N: odd level\n",
    "    S = []\n",
    "    N = []\n",
    "\n",
    "    # set a distance from the root\n",
    "    for p in G.nodes():\n",
    "        if (p != r):\n",
    "            G.node[p]['distance'] = float('inf')\n",
    "        else:\n",
    "            G.node[p]['distance'] = 0\n",
    "\n",
    "    # set a current node v as r\n",
    "    v = r\n",
    "    # level of a BFS tree\n",
    "    level = 0\n",
    "    # candidates, a list of nodes\n",
    "    candidates = candidates(G, v, level)\n",
    "\n",
    "    while( len(candidates) != 0 and not ( set(V)<=set(G.graph['M_vertices']) ) ):\n",
    "        # level = 0, or unstucked and there is a unmatched vertex of V\n",
    "        # v: current vertex\n",
    "        # level: current level\n",
    "        past.append(v)\n",
    "        if (level%2 == 0):\n",
    "            S.append(v)\n",
    "        else:\n",
    "            N.append(v)\n",
    "\n",
    "        level += 1\n",
    "        \n",
    "        for p in candidates:\n",
    "            if not p in future:\n",
    "                future.append(p)\n",
    "            G.node[p]['distance'] = G.node[v]['distance'] + 1\n",
    "        \n",
    "        v = future.popleft()\n",
    "        candidates = candidates(G, v, level)\n",
    "\n",
    "    # After terminating the while loop, BFS search is stucked\n",
    "    # First, check if v is another unmatched vertex or not\n",
    "    if (v in G.graph['M_vertices']):\n",
    "        # v is a matched vertex\n",
    "        return 'stuck'\n",
    "    else:\n",
    "        # v is unmatched\n",
    "        # Construct a good path from r to v\n",
    "        # 以下、sからeへのpathが存在する場合\n",
    "        # 終点から遡ってpathを形成する\n",
    "        pp = v\n",
    "        while (1):\n",
    "            path.insert(0, pp)\n",
    "            if pp == r: break\n",
    "\n",
    "            pred = G.predecessors(pp)\n",
    "\n",
    "            for p in pred:\n",
    "                if ( G.node[p]['distance'] == G.node[pp]['distance']-1 and ( G[p][pp]['cost'] - G.node[p]['price'] - G.node[pp]['price'] == 0 ) ):\n",
    "                    pp = p\n",
    "                    break\n",
    "\n",
    "        return [path, S, N]\n",
    "\n",
    "def Hungarian(G, V, W):\n",
    "    '''Solving min-cost bipartite matching problem\n",
    "\n",
    "    Parameters\n",
    "    ----------\n",
    "    G=(V+W, E): a bipartite graph\n",
    "        V+W: vertices, |V| = n\n",
    "            prices\n",
    "        E: edges\n",
    "            cost>=0\n",
    "            the reduced cost of (v,w) =  cost of (v,w) - price of v - price of w\n",
    "        M: matching\n",
    "    Invariants:\n",
    "        1. the reduced costs of all edges in G >= 0\n",
    "        2. the reduced costs of all edges in M = 0(tight)\n",
    "\n",
    "    Return\n",
    "    ------\n",
    "    the min-cost matching M of G\n",
    "    '''\n",
    "\n",
    "    H = Initialize_H(G)\n",
    "\n",
    "    while ( len(H.graph['M_vertices'] ) != len(V)):\n",
    "        # a current matching M is not a perfect matching\n",
    "        \n",
    "        # pick a unmatched node in V\n",
    "        for p in V:\n",
    "            if (not p in H.graph['M_vertices'] ):\n",
    "                r = p\n",
    "                break\n",
    "\n",
    "        # S: even level vertices of the BFS tree\n",
    "        # N: odd level ones\n",
    "        # path: a stucked path\n",
    "        path, S, N = BFS_GP(H, r, V, W)\n",
    "\n",
    "        if (path[len(path)-1] in (set(W) - set(H.graph['M_vertices']) ) ):\n",
    "            # the path contains an unmatched vertex w in W\n",
    "            # If such w exists, it is the last vertex of the path\n",
    "            # replace M\n",
    "            for i in range( len(path) - 1 ):\n",
    "                if (i%2 == 0):\n",
    "                    # the edge is from V to W, is not in M\n",
    "                    if (not path[i] in H.graph['M_vertices']):\n",
    "                    # 毎度条件をcheckするのは非効率的か\n",
    "                        H.graph['M_vertices'].append(path[i])\n",
    "                    # 両方向に枝を追加\n",
    "                    H.graph['M_edges'].append( (path[i], path[i+1]) )\n",
    "                    H.graph['M_edges'].append( (path[i+1], path[i]) )\n",
    "                else:\n",
    "                    # the edge is from W to V, is in M\n",
    "                    if (not path[i] in H.graph['M_vertices']):\n",
    "                        H.graph['M_vertices'].append(path[i])\n",
    "                    H.graph['M_edges'].remove( (path[i], path[i+1]) )\n",
    "                    H.graph['M_edges'].remove( (path[i+1], path[i]) )\n",
    "        else:\n",
    "            # set diff as the reduced cost of the last edge in the stucked path\n",
    "            diff = G[ path[len(path) - 2] ][ path[len(path) - 1] ]['cost'] - G.node[ path[len(path)-2] ]['price'] - G.node[len(path)-1]['price']\n",
    "            for v in S:\n",
    "                G.node[v]['price'] += diff\n",
    "            for w in N:\n",
    "                G.node[w]['price'] -= diff\n",
    "\n",
    "    return H.graph['M_edges']"
   ]
  },
  {
   "cell_type": "code",
   "execution_count": 39,
   "metadata": {
    "collapsed": false
   },
   "outputs": [],
   "source": [
    "# Figure 10 のグラフを作ってみる\n",
    "import networkx as nx\n",
    "import matplotlib.pyplot as plt\n",
    "from collections import deque\n",
    "import numpy as np\n",
    "\n",
    "G = nx.DiGraph()\n",
    "V = ['v', 'x']\n",
    "W = ['w', 'y']\n",
    "edgelist = [('v', 'w'), ('v', 'y'), ('x', 'w'), ('x', 'y')]\n",
    "for edge in edgelist:\n",
    "    G.add_edge(*edge)\n",
    "    G.add_edge(edge[1],edge[0])\n",
    "G['v']['y']['cost'] = 3\n",
    "G['y']['v']['cost'] = 3\n",
    "G['v']['w']['cost'] = 2\n",
    "G['w']['v']['cost'] = 2\n",
    "G['x']['w']['cost'] = 5\n",
    "G['w']['x']['cost'] = 5\n",
    "G['x']['y']['cost'] = 7\n",
    "G['y']['x']['cost'] = 7"
   ]
  },
  {
   "cell_type": "code",
   "execution_count": 40,
   "metadata": {
    "collapsed": false
   },
   "outputs": [
    {
     "data": {
      "text/plain": [
       "['v', 'y', 'x', 'w']"
      ]
     },
     "execution_count": 40,
     "metadata": {},
     "output_type": "execute_result"
    }
   ],
   "source": [
    "G.nodes()"
   ]
  },
  {
   "cell_type": "code",
   "execution_count": 41,
   "metadata": {
    "collapsed": false
   },
   "outputs": [
    {
     "data": {
      "text/plain": [
       "[('v', 'y'),\n",
       " ('v', 'w'),\n",
       " ('y', 'v'),\n",
       " ('y', 'x'),\n",
       " ('x', 'y'),\n",
       " ('x', 'w'),\n",
       " ('w', 'v'),\n",
       " ('w', 'x')]"
      ]
     },
     "execution_count": 41,
     "metadata": {},
     "output_type": "execute_result"
    }
   ],
   "source": [
    "G.edges()"
   ]
  },
  {
   "cell_type": "code",
   "execution_count": 42,
   "metadata": {
    "collapsed": false
   },
   "outputs": [
    {
     "data": {
      "text/plain": [
       "3"
      ]
     },
     "execution_count": 42,
     "metadata": {},
     "output_type": "execute_result"
    }
   ],
   "source": [
    "G['v']['y']['cost']"
   ]
  },
  {
   "cell_type": "code",
   "execution_count": 45,
   "metadata": {
    "collapsed": false
   },
   "outputs": [
    {
     "ename": "KeyError",
     "evalue": "'v'",
     "output_type": "error",
     "traceback": [
      "\u001b[0;31m---------------------------------------------------------------------------\u001b[0m",
      "\u001b[0;31mKeyError\u001b[0m                                  Traceback (most recent call last)",
      "\u001b[0;32m<ipython-input-45-53052e7567b0>\u001b[0m in \u001b[0;36m<module>\u001b[0;34m()\u001b[0m\n\u001b[0;32m----> 1\u001b[0;31m \u001b[0mHungarian\u001b[0m\u001b[0;34m(\u001b[0m\u001b[0mG\u001b[0m\u001b[0;34m,\u001b[0m \u001b[0mV\u001b[0m\u001b[0;34m,\u001b[0m \u001b[0mW\u001b[0m\u001b[0;34m)\u001b[0m\u001b[0;34m\u001b[0m\u001b[0m\n\u001b[0m",
      "\u001b[0;32m<ipython-input-44-5c5ff4c39060>\u001b[0m in \u001b[0;36mHungarian\u001b[0;34m(G, V, W)\u001b[0m\n\u001b[1;32m    209\u001b[0m         \u001b[0;32melse\u001b[0m\u001b[0;34m:\u001b[0m\u001b[0;34m\u001b[0m\u001b[0m\n\u001b[1;32m    210\u001b[0m             \u001b[0;31m# set diff as the reduced cost of the last edge in the stucked path\u001b[0m\u001b[0;34m\u001b[0m\u001b[0;34m\u001b[0m\u001b[0m\n\u001b[0;32m--> 211\u001b[0;31m             \u001b[0mdiff\u001b[0m \u001b[0;34m=\u001b[0m \u001b[0mG\u001b[0m\u001b[0;34m[\u001b[0m \u001b[0mpath\u001b[0m\u001b[0;34m[\u001b[0m\u001b[0mlen\u001b[0m\u001b[0;34m(\u001b[0m\u001b[0mpath\u001b[0m\u001b[0;34m)\u001b[0m \u001b[0;34m-\u001b[0m \u001b[0;36m2\u001b[0m\u001b[0;34m]\u001b[0m \u001b[0;34m]\u001b[0m\u001b[0;34m[\u001b[0m \u001b[0mpath\u001b[0m\u001b[0;34m[\u001b[0m\u001b[0mlen\u001b[0m\u001b[0;34m(\u001b[0m\u001b[0mpath\u001b[0m\u001b[0;34m)\u001b[0m \u001b[0;34m-\u001b[0m \u001b[0;36m1\u001b[0m\u001b[0;34m]\u001b[0m \u001b[0;34m]\u001b[0m\u001b[0;34m[\u001b[0m\u001b[0;34m'cost'\u001b[0m\u001b[0;34m]\u001b[0m \u001b[0;34m-\u001b[0m \u001b[0mG\u001b[0m\u001b[0;34m.\u001b[0m\u001b[0mnode\u001b[0m\u001b[0;34m[\u001b[0m \u001b[0mpath\u001b[0m\u001b[0;34m[\u001b[0m\u001b[0mlen\u001b[0m\u001b[0;34m(\u001b[0m\u001b[0mpath\u001b[0m\u001b[0;34m)\u001b[0m\u001b[0;34m-\u001b[0m\u001b[0;36m2\u001b[0m\u001b[0;34m]\u001b[0m \u001b[0;34m]\u001b[0m\u001b[0;34m[\u001b[0m\u001b[0;34m'price'\u001b[0m\u001b[0;34m]\u001b[0m \u001b[0;34m-\u001b[0m \u001b[0mG\u001b[0m\u001b[0;34m.\u001b[0m\u001b[0mnode\u001b[0m\u001b[0;34m[\u001b[0m\u001b[0mlen\u001b[0m\u001b[0;34m(\u001b[0m\u001b[0mpath\u001b[0m\u001b[0;34m)\u001b[0m\u001b[0;34m-\u001b[0m\u001b[0;36m1\u001b[0m\u001b[0;34m]\u001b[0m\u001b[0;34m[\u001b[0m\u001b[0;34m'price'\u001b[0m\u001b[0;34m]\u001b[0m\u001b[0;34m\u001b[0m\u001b[0m\n\u001b[0m\u001b[1;32m    212\u001b[0m             \u001b[0;32mfor\u001b[0m \u001b[0mv\u001b[0m \u001b[0;32min\u001b[0m \u001b[0mS\u001b[0m\u001b[0;34m:\u001b[0m\u001b[0;34m\u001b[0m\u001b[0m\n\u001b[1;32m    213\u001b[0m                 \u001b[0mG\u001b[0m\u001b[0;34m.\u001b[0m\u001b[0mnode\u001b[0m\u001b[0;34m[\u001b[0m\u001b[0mv\u001b[0m\u001b[0;34m]\u001b[0m\u001b[0;34m[\u001b[0m\u001b[0;34m'price'\u001b[0m\u001b[0;34m]\u001b[0m \u001b[0;34m+=\u001b[0m \u001b[0mdiff\u001b[0m\u001b[0;34m\u001b[0m\u001b[0m\n",
      "\u001b[0;31mKeyError\u001b[0m: 'v'"
     ]
    }
   ],
   "source": [
    "Hungarian(G, V, W)"
   ]
  },
  {
   "cell_type": "code",
   "execution_count": null,
   "metadata": {
    "collapsed": true
   },
   "outputs": [],
   "source": []
  }
 ],
 "metadata": {
  "anaconda-cloud": {},
  "kernelspec": {
   "display_name": "Python [conda root]",
   "language": "python",
   "name": "conda-root-py"
  },
  "language_info": {
   "codemirror_mode": {
    "name": "ipython",
    "version": 3
   },
   "file_extension": ".py",
   "mimetype": "text/x-python",
   "name": "python",
   "nbconvert_exporter": "python",
   "pygments_lexer": "ipython3",
   "version": "3.5.2"
  },
  "toc": {
   "nav_menu": {
    "height": "48px",
    "width": "252px"
   },
   "navigate_menu": true,
   "number_sections": true,
   "sideBar": true,
   "threshold": 4,
   "toc_cell": false,
   "toc_section_display": "block",
   "toc_window_display": false
  }
 },
 "nbformat": 4,
 "nbformat_minor": 1
}
