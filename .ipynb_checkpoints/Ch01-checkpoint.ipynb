{
 "cells": [
  {
   "cell_type": "markdown",
   "metadata": {
    "toc": "true"
   },
   "source": [
    "# Table of Contents\n",
    " <p><div class=\"lev1 toc-item\"><a href=\"#Implementing-BFS\" data-toc-modified-id=\"Implementing-BFS-1\"><span class=\"toc-item-num\">1&nbsp;&nbsp;</span>Implementing BFS</a></div><div class=\"lev1 toc-item\"><a href=\"#Intro-to-the-Maximum-Flow-Problem\" data-toc-modified-id=\"Intro-to-the-Maximum-Flow-Problem-2\"><span class=\"toc-item-num\">2&nbsp;&nbsp;</span>Intro to the Maximum Flow Problem</a></div><div class=\"lev2 toc-item\"><a href=\"#A-Naive-Greedy-Algorithm\" data-toc-modified-id=\"A-Naive-Greedy-Algorithm-21\"><span class=\"toc-item-num\">2.1&nbsp;&nbsp;</span>A Naive Greedy Algorithm</a></div><div class=\"lev2 toc-item\"><a href=\"#Residual-Graphs\" data-toc-modified-id=\"Residual-Graphs-22\"><span class=\"toc-item-num\">2.2&nbsp;&nbsp;</span>Residual Graphs</a></div><div class=\"lev2 toc-item\"><a href=\"#Ford-Fulkerson-Algorithm\" data-toc-modified-id=\"Ford-Fulkerson-Algorithm-23\"><span class=\"toc-item-num\">2.3&nbsp;&nbsp;</span>Ford-Fulkerson Algorithm</a></div><div class=\"lev2 toc-item\"><a href=\"#NetworkXを用いて最大流問題を解く\" data-toc-modified-id=\"NetworkXを用いて最大流問題を解く-24\"><span class=\"toc-item-num\">2.4&nbsp;&nbsp;</span>NetworkXを用いて最大流問題を解く</a></div><div class=\"lev1 toc-item\"><a href=\"#Summary\" data-toc-modified-id=\"Summary-3\"><span class=\"toc-item-num\">3&nbsp;&nbsp;</span>Summary</a></div>"
   ]
  },
  {
   "cell_type": "markdown",
   "metadata": {},
   "source": [
    "# Implementing BFS"
   ]
  },
  {
   "cell_type": "markdown",
   "metadata": {},
   "source": [
    "まず準備として、始点と終点が指定されたときに始点から終点に至るパスのうちの一つを求めるアルゴリズムを実装したい。「Breadth First Search(BFS, 幅優先探索)やDFS(Depth First Search)を用いて実装できる」とレクチャーノートに書いてあるので、試しにBFSを用いて実装してみる。\n",
    "\n",
    "BFSの実装にはQueueというデータ構造を用いる。(cf: DFSではstackを用いる。)Pythonでは、dequeというデータ構造（stackとqueueを合わせたようなデータ構造）が提供されているので、それを用いる。\n",
    "\n",
    "[このページ](http://www.ocw.titech.ac.jp/index.php?module=General&action=DownLoad&file=201602093-9183-1-11.pdf&type=cal&JWC=201602093)も参考になりそう。\n",
    "\n",
    "実装に当たって、NetworkXというpythonのグラフライブラリを利用している。詳しい使い方は[公式サイトのチュートリアル](http://networkx.readthedocs.io/en/networkx-1.11/tutorial/)等が参考になる。"
   ]
  },
  {
   "cell_type": "markdown",
   "metadata": {},
   "source": [
    ">Given a graph $G$ and a starting vertex $s$, a breadth first search proceeds by exploring edges in the graph to find all the vertices in $G$ for which there is a path from $s$. The remarkable thing about a breadth first search is that it finds all the vertices that are a distance $k$ from ss before it finds any vertices that are a distance $k+1$. (http://interactivepython.org/runestone/static/pythonds/Graphs/ImplementingBreadthFirstSearch.html)"
   ]
  },
  {
   "cell_type": "code",
   "execution_count": 1,
   "metadata": {
    "collapsed": false
   },
   "outputs": [],
   "source": [
    "# dequeをimport\n",
    "from collections import deque"
   ]
  },
  {
   "cell_type": "code",
   "execution_count": 2,
   "metadata": {
    "code_folding": [
     0
    ],
    "collapsed": false
   },
   "outputs": [
    {
     "name": "stdout",
     "output_type": "stream",
     "text": [
      "deque([1, 2, 3, 4, 5])\n",
      "deque([1, 2, 3, 4, 5, 0])\n",
      "0\n",
      "deque([1, 2, 3, 4, 5])\n",
      "1\n",
      "deque([2, 3, 4, 5])\n"
     ]
    }
   ],
   "source": [
    "# dequeのメソッドの確認\n",
    "\n",
    "d = deque([1,2,3,4,5])\n",
    "print (d)\n",
    "\n",
    "# append: push/enqueueに対応\n",
    "d.append(0)\n",
    "print (d)\n",
    "\n",
    "# pop: 右の要素を削除し、返す\n",
    "print (d.pop())\n",
    "print (d)\n",
    "\n",
    "# popleft: 一番左の要素を削除し、返す\n",
    "print (d.popleft())\n",
    "print (d)"
   ]
  },
  {
   "cell_type": "code",
   "execution_count": 14,
   "metadata": {
    "collapsed": true
   },
   "outputs": [],
   "source": [
    "# NetworkXをインポート\n",
    "import networkx as nx\n",
    "\n",
    "G = nx.DiGraph()\n",
    "\n",
    "G.add_edges_from([(1,2),(1,3),(1,4),(2,4),(2,5),(3,4),(4,5)])"
   ]
  },
  {
   "cell_type": "code",
   "execution_count": 2,
   "metadata": {
    "collapsed": true
   },
   "outputs": [],
   "source": [
    "import matplotlib.pyplot as plt"
   ]
  },
  {
   "cell_type": "code",
   "execution_count": 3,
   "metadata": {
    "code_folding": [
     0
    ],
    "collapsed": false
   },
   "outputs": [
    {
     "data": {
      "image/png": "[encoded data removed]",
      "text/plain": [
       "<matplotlib.figure.Figure at 0x10c41e1d0>"
      ]
     },
     "metadata": {},
     "output_type": "display_data"
    }
   ],
   "source": [
    "#試しに描画してみる\n",
    "# Position nodes using Fruchterman-Reingold force-directed algorithm.\n",
    "pos = nx.spring_layout(G, k=5.)\n",
    "\n",
    "# Draw labels for nodes and edges.\n",
    "nx.draw_networkx_labels(G, pos)\n",
    "\n",
    "# Finish drawing.\n",
    "nx.draw(G, pos)\n",
    "\n",
    "# Display with Matplotlib.\n",
    "plt.axis('off')\n",
    "plt.show()"
   ]
  },
  {
   "cell_type": "code",
   "execution_count": 4,
   "metadata": {
    "collapsed": false
   },
   "outputs": [
    {
     "data": {
      "text/plain": [
       "[2, 3, 4]"
      ]
     },
     "execution_count": 4,
     "metadata": {},
     "output_type": "execute_result"
    }
   ],
   "source": [
    "G.successors(1)"
   ]
  },
  {
   "cell_type": "code",
   "execution_count": 9,
   "metadata": {
    "code_folding": [
     0
    ],
    "collapsed": false
   },
   "outputs": [],
   "source": [
    "# もう少し賢く書くべきか\n",
    "def bfsPath(G, s, e):\n",
    "    '''\n",
    "    BFSを用いて、sからeへのpathを一つ求める。\n",
    "    Inputs:\n",
    "        G: a graph\n",
    "        s: a start point\n",
    "        e: an end point\n",
    "    Output:\n",
    "        path: a list of edges which represents a path from s to e.\n",
    "        the number of nodes the path contains is smallest.\n",
    "    '''\n",
    "\n",
    "    past = [] # 過去に訪れた点を記録\n",
    "    path = []\n",
    "\n",
    "    # 全ての点のsからの距離の初期値を無限大に\n",
    "    for p in G.nodes():\n",
    "        G.node[p]['dist'] = float('inf')\n",
    "    \n",
    "    # node s の距離を0に\n",
    "    G.node[s]['dist'] = 0\n",
    "    \n",
    "    # sに隣接する点をqueueに\n",
    "    queue = deque(G.successors(s))\n",
    "    \n",
    "    # sに隣接する点の距離を1に\n",
    "    for p in G.successors(s):\n",
    "        G.node[p]['dist'] = 1\n",
    "    \n",
    "    # この部分がBFS\n",
    "    while len(queue)>0:\n",
    "        v = queue.popleft()\n",
    "        if v == e: break\n",
    "        else:\n",
    "            past.append(v)\n",
    "            for p in G.successors(v):\n",
    "                if (not p in past):\n",
    "                    queue.append(p)\n",
    "                    if G.node[p]['dist'] > G.node[v]['dist'] + 1:\n",
    "                        G.node[p]['dist'] = G.node[v]['dist'] + 1\n",
    "    \n",
    "    # pathが存在しない場合はNoneを返す\n",
    "    if len(G.successors(s)) == 0:\n",
    "        v = s\n",
    "    if v != e or v == s:\n",
    "        print ('There is no path.')\n",
    "        return None\n",
    "    \n",
    "    # 終点から遡ってpathを形成する\n",
    "    pp = e\n",
    "    while (1):\n",
    "        if pp == s:\n",
    "            break\n",
    "        pred = G.predecessors(pp)\n",
    "        for p in pred:\n",
    "            if G.node[p]['dist'] == G.node[pp]['dist']-1:\n",
    "                path.insert(0, (p,pp))\n",
    "                pp = p\n",
    "                break\n",
    "    \n",
    "    return path"
   ]
  },
  {
   "cell_type": "code",
   "execution_count": 23,
   "metadata": {
    "code_folding": [],
    "collapsed": true
   },
   "outputs": [],
   "source": [
    "# 書き直した(2016.12.17)\n",
    "\n",
    "# dequeをimport\n",
    "from collections import deque\n",
    "\n",
    "\n",
    "def BFS(G, s):\n",
    "    '''\n",
    "    Implementing BFS\n",
    "\n",
    "    Parameters\n",
    "    ----------\n",
    "    G=(V, E): a graph\n",
    "        V's attribute\n",
    "            v.color, v.parent, v.distance\n",
    "    s: a starting point\n",
    "\n",
    "    Return\n",
    "    ------\n",
    "    None\n",
    "    '''\n",
    "\n",
    "    # 全ての頂点を初期化\n",
    "    for v in G.nodes():\n",
    "        G.node[v]['color'] = 'white'\n",
    "    for v in G.nodes():\n",
    "        G.node[v]['distance'] = float('inf')\n",
    "    for v in G.nodes():\n",
    "        G.node[v]['parent'] = None\n",
    "\n",
    "    # sについて初期化\n",
    "    G.node[s]['color'] = 'gray'\n",
    "    G.node[s]['distance'] = 0\n",
    "\n",
    "    queue = deque()\n",
    "    queue.append(s)\n",
    "\n",
    "    while len(queue) > 0:\n",
    "        u = queue.popleft()\n",
    "        for v in G.successors(u):\n",
    "            if (G.node[v]['color'] == 'white'):\n",
    "                G.node[v]['color'] == 'gray'\n",
    "                G.node[v]['distance'] == G.node[u]['distance'] + 1\n",
    "                G.node[v]['parent'] = u\n",
    "                queue.append(v)\n",
    "        G.node[v]['color'] = 'black'\n",
    "\n",
    "def BFS_path(G, s, t):\n",
    "    '''\n",
    "    Implementing BFS\n",
    "\n",
    "    Parameters\n",
    "    ----------\n",
    "    G=(V, E): a graph\n",
    "        V's attribute\n",
    "            v.color, v.parent, v.distance\n",
    "    s: a starting point\n",
    "    t: an end point\n",
    "\n",
    "    Return\n",
    "    ------\n",
    "    a shortest path from s to t\n",
    "    '''\n",
    "\n",
    "    BFS(G, s)\n",
    "    path = []\n",
    "    v = t\n",
    "    while (v != s):\n",
    "        path.insert(0, v)\n",
    "        v = G.node[v]['parent']\n",
    "    path.insert(0, v)\n",
    "    return path"
   ]
  },
  {
   "cell_type": "code",
   "execution_count": 20,
   "metadata": {
    "collapsed": false
   },
   "outputs": [],
   "source": [
    "BFS(G,1)"
   ]
  },
  {
   "cell_type": "code",
   "execution_count": 21,
   "metadata": {
    "collapsed": false
   },
   "outputs": [
    {
     "name": "stdout",
     "output_type": "stream",
     "text": [
      "None\n",
      "1\n",
      "1\n",
      "1\n",
      "2\n"
     ]
    }
   ],
   "source": [
    "for v in G.nodes():\n",
    "    print ( G.node[v]['parent'] )"
   ]
  },
  {
   "cell_type": "code",
   "execution_count": 22,
   "metadata": {
    "collapsed": false
   },
   "outputs": [
    {
     "data": {
      "text/plain": [
       "[1, 2, 5]"
      ]
     },
     "execution_count": 22,
     "metadata": {},
     "output_type": "execute_result"
    }
   ],
   "source": [
    "BFS_path(G,1,5)"
   ]
  },
  {
   "cell_type": "code",
   "execution_count": 10,
   "metadata": {
    "collapsed": false,
    "scrolled": true
   },
   "outputs": [
    {
     "data": {
      "text/plain": [
       "[(1, 2), (2, 5)]"
      ]
     },
     "execution_count": 10,
     "metadata": {},
     "output_type": "execute_result"
    }
   ],
   "source": [
    "# G上の1から5に至るpathの一つを求める\n",
    "bfsPath(G,1,5)"
   ]
  },
  {
   "cell_type": "code",
   "execution_count": 11,
   "metadata": {
    "collapsed": false
   },
   "outputs": [
    {
     "data": {
      "text/plain": [
       "[(3, 4), (4, 5)]"
      ]
     },
     "execution_count": 11,
     "metadata": {},
     "output_type": "execute_result"
    }
   ],
   "source": [
    "# from 3 to 5\n",
    "bfsPath(G,3,5)"
   ]
  },
  {
   "cell_type": "code",
   "execution_count": 12,
   "metadata": {
    "collapsed": false
   },
   "outputs": [
    {
     "name": "stdout",
     "output_type": "stream",
     "text": [
      "There is no path.\n"
     ]
    }
   ],
   "source": [
    "# from 5 to 1\n",
    "bfsPath(G,5,1)"
   ]
  },
  {
   "cell_type": "markdown",
   "metadata": {
    "collapsed": true
   },
   "source": [
    "# Intro to the Maximum Flow Problem"
   ]
  },
  {
   "cell_type": "markdown",
   "metadata": {},
   "source": [
    "前節で作ったbfsPathを元に、naive greedy algorithmを実装することがこの節の目標。\n",
    "\n",
    "とりあえず、例のグラフを作ってみる。"
   ]
  },
  {
   "cell_type": "code",
   "execution_count": 9,
   "metadata": {
    "collapsed": false
   },
   "outputs": [],
   "source": [
    "G = nx.DiGraph()\n",
    "G.add_edges_from([('s','v',{'cap': 3}),('s','w',{'cap': 2}),('v','w',{'cap': 5}),('v','t',{'cap': 2}),('w','t',{'cap': 3})])\n",
    "\n",
    "#flowを初期化\n",
    "for e in G.edges():\n",
    "    G[e[0]][e[1]]['flow'] = 0"
   ]
  },
  {
   "cell_type": "code",
   "execution_count": 10,
   "metadata": {
    "code_folding": [
     0
    ],
    "collapsed": false
   },
   "outputs": [
    {
     "data": {
      "image/png": "[encoded data removed]",
      "text/plain": [
       "<matplotlib.figure.Figure at 0x10edcc160>"
      ]
     },
     "metadata": {},
     "output_type": "display_data"
    }
   ],
   "source": [
    "# 描画(edgeについている数字はcapacity)\n",
    "\n",
    "# Position nodes using Fruchterman-Reingold force-directed algorithm.\n",
    "    # 点の位置はランダムに決まるので、出来上がったグラフの形が微妙だったら、何回かやり直せばよい。\n",
    "    # 座標を指定することもできるので、点の数が少ない場合は手動で形を決めた方が良いかも（後述）\n",
    "pos = nx.spring_layout(G, k=5.)\n",
    "\n",
    "# Draw only weight attribute as edge label.\n",
    "edge_labels = {(i, j): w['cap'] for i, j, w in G.edges(data=True)}\n",
    "nx.draw_networkx_edge_labels(G, pos, edge_labels=edge_labels)\n",
    "\n",
    "# Draw labels for nodes and edges.\n",
    "nx.draw_networkx_labels(G, pos)\n",
    "\n",
    "# Finish drawing.\n",
    "nx.draw(G, pos)\n",
    "\n",
    "# Display with Matplotlib.\n",
    "plt.axis('off')\n",
    "plt.show()"
   ]
  },
  {
   "cell_type": "markdown",
   "metadata": {},
   "source": [
    "## A Naive Greedy Algorithm"
   ]
  },
  {
   "cell_type": "code",
   "execution_count": 46,
   "metadata": {
    "collapsed": true
   },
   "outputs": [],
   "source": [
    "# もろもろをインポート\n",
    "import networkx as nx\n",
    "import matplotlib.pyplot as plt\n",
    "from collections import deque"
   ]
  },
  {
   "cell_type": "code",
   "execution_count": 47,
   "metadata": {
    "collapsed": true
   },
   "outputs": [],
   "source": [
    "# 例のグラフGを生成\n",
    "G = nx.DiGraph()\n",
    "G.add_edges_from([('s','v',{'capacity': 3}),('s','w',{'capacity': 2}),('v','w',{'capacity': 5}),('v','t',{'capacity': 2}),('w','t',{'capacity': 3})])\n",
    "for e in G.edges():\n",
    "    G[e[0]][e[1]]['flow'] = 0"
   ]
  },
  {
   "cell_type": "markdown",
   "metadata": {},
   "source": [
    "まず、前節で作ったbfsPath（flowやcapacityについては考慮してなかった）を、naive greedy algorithmの中で使えるもの(bfsFlowPath)に改変する。"
   ]
  },
  {
   "cell_type": "code",
   "execution_count": 48,
   "metadata": {
    "code_folding": [
     0
    ],
    "collapsed": true
   },
   "outputs": [],
   "source": [
    "def bfsFlowPath_(G, s, e):\n",
    "    '''\n",
    "    Search a path from s to t all of whose points have strictly positive capacity.\n",
    "    \n",
    "    Inputs:\n",
    "        G: a graph\n",
    "        s: a start point\n",
    "        e: an end point\n",
    "        each edge has two attributes:\n",
    "            capacity: capacity\n",
    "            flow: its current flow which should be no more than its capacity\n",
    "    Output:\n",
    "        path: a list of edges which represents a path from s to e.\n",
    "        At each edge of the path, its current flow is strictly less than its capacity.\n",
    "        In case there is no path from s to t, return None.\n",
    "    '''\n",
    "\n",
    "    past = [] # 過去に訪れた点を記録\n",
    "    path = []\n",
    "\n",
    "    # 全ての点のsからの距離の初期値を無限大に\n",
    "    for p in G.nodes():\n",
    "        G.node[p]['dist'] = float('inf')\n",
    "    \n",
    "    # node s の距離を0に\n",
    "    G.node[s]['dist'] = 0\n",
    "    \n",
    "    # sに隣接する点をqueueに\n",
    "    # queueには、今後訪れるべき点が格納される\n",
    "    queue = deque()\n",
    "    for p in G.successors(s):\n",
    "        # current flow < capacity となるedgeだけをpathの候補に\n",
    "        # flow < capacity となるedge以外は存在しないものとして扱うのと同じ\n",
    "        if G[s][p]['flow'] < G[s][p]['capacity']:\n",
    "            queue.append(p)\n",
    "            \n",
    "    # あとで条件分岐に用いる\n",
    "    numberOfSuccessorsOfSource = len(queue)\n",
    "    \n",
    "    # sに隣接する点の距離を1に\n",
    "    for p in queue:\n",
    "        G.node[p]['dist'] = 1\n",
    "\n",
    "    # BFSを用いてflow < capacityを満たすsからeへのpathがあるのか調べる\n",
    "    # pastに過去に訪れた点を格納\n",
    "    while len(queue)>0:\n",
    "        v = queue.popleft()\n",
    "        if v == e: break\n",
    "        else:\n",
    "            past.append(v)\n",
    "            for p in G.successors(v):\n",
    "                # (過去に訪れていない and flow < capacity)を満たすedge\n",
    "                if ( (not p in past) and ( G[v][p]['flow'] < G[v][p]['capacity']) ):\n",
    "                    if ( not p in queue):\n",
    "                        queue.append(p)\n",
    "                    if G.node[p]['dist'] > G.node[v]['dist'] + 1:\n",
    "                        G.node[p]['dist'] = G.node[v]['dist'] + 1\n",
    "\n",
    "    # sからeへのpathが存在しない場合はNoneを返す\n",
    "    if numberOfSuccessorsOfSource == 0:\n",
    "        v = s\n",
    "    if v != e or v == s:\n",
    "        # print ('There is no path.')\n",
    "        return None\n",
    "    \n",
    "    # 以下、sからeへのpathが存在する場合\n",
    "    # 終点から遡ってpathを形成する\n",
    "    pp = e\n",
    "    while (1):\n",
    "        if pp == s: break\n",
    "            \n",
    "        pred = G.predecessors(pp)\n",
    "        \n",
    "        count = 0\n",
    "\n",
    "        for p in pred:\n",
    "            # ここに、flow < capacity の条件を追加\n",
    "            # distの作り方から、flow < capは自然に満たされる\n",
    "            if ( G.node[p]['dist'] == G.node[pp]['dist']-1):\n",
    "                path.insert(0, (p,pp))\n",
    "                pp = p\n",
    "                break\n",
    "            else:\n",
    "                count += 1\n",
    "        \n",
    "        # 条件を満たすedgeがない\n",
    "        if count == len(pred):\n",
    "            break\n",
    "    \n",
    "    # pathがない場合\n",
    "    # 無駄な条件か？（ここまで来ているのなら、pathはあるはず。念のため残しておく。）\n",
    "    if path[0][0] != s:\n",
    "        return None\n",
    "    \n",
    "    return path"
   ]
  },
  {
   "cell_type": "code",
   "execution_count": 38,
   "metadata": {
    "code_folding": [
     0
    ],
    "collapsed": true
   },
   "outputs": [],
   "source": [
    "def bfsFlowPath_(G, s, e):\n",
    "    '''\n",
    "    Search a path from s to t all of whose points have strictly positive capacity.\n",
    "    \n",
    "    Inputs:\n",
    "        G: a graph\n",
    "        s: a start point\n",
    "        e: an end point\n",
    "        each edge has two attributes:\n",
    "            capacity: capacity\n",
    "            flow: its current flow which should be no more than its capacity\n",
    "    Output:\n",
    "        path: a list of edges which represents a path from s to e.\n",
    "        At each edge of the path, its current flow is strictly less than its capacity.\n",
    "        In case there is no path from s to t, return None.\n",
    "    '''\n",
    "    # 過去に訪れた点を記録\n",
    "    # sは最初から入れておく\n",
    "    past = [s]\n",
    "    # pathを記録するためのリスト\n",
    "    path = []\n",
    "\n",
    "    # 全ての点のsからの距離の初期値を無限大に\n",
    "    for p in G.nodes():\n",
    "        G.node[p]['dist'] = float('inf')\n",
    "    \n",
    "    # node s の距離を0に\n",
    "    G.node[s]['dist'] = 0\n",
    "    \n",
    "    # sに隣接する点をqueueに\n",
    "    # queueには、今後訪れるべき点が格納される\n",
    "    queue = deque()\n",
    "    for p in G.successors(s):\n",
    "        # current flow < capacity となるedgeだけをpathの候補に\n",
    "        # flow < capacity となるedge以外は存在しないものとして扱うのと同じ\n",
    "        if G[s][p]['flow'] < G[s][p]['capacity']:\n",
    "            queue.append(p)\n",
    "            \n",
    "    # あとで条件分岐に用いる\n",
    "    numberOfSuccessorsOfSource = len(queue)\n",
    "    \n",
    "    # sに隣接する点の距離を1に\n",
    "    for p in queue:\n",
    "        G.node[p]['dist'] = 1\n",
    "\n",
    "    # BFSを用いてflow < capacityを満たすsからeへのpathがあるのか調べる\n",
    "    # pastに過去に訪れた点を格納\n",
    "    while len(queue)>0:\n",
    "        v = queue.popleft()\n",
    "        if v == e: break\n",
    "        else:\n",
    "            past.append(v)\n",
    "            for p in G.successors(v):\n",
    "                # (過去に訪れていない and flow < capacity)を満たすedge\n",
    "                if ( (not p in past) and ( G[v][p]['flow'] < G[v][p]['capacity']) ):\n",
    "                    if ( not p in queue):\n",
    "                        queue.append(p)\n",
    "                    if G.node[p]['dist'] > G.node[v]['dist'] + 1:\n",
    "                        G.node[p]['dist'] = G.node[v]['dist'] + 1\n",
    "\n",
    "    # sからeへのpathが存在しない場合はNoneを返す\n",
    "    if numberOfSuccessorsOfSource == 0:\n",
    "        v = s\n",
    "    if v != e or v == s:\n",
    "        # print ('There is no path.')\n",
    "        return None\n",
    "    \n",
    "    # 以下、sからeへのpathが存在する場合\n",
    "    # 終点から遡ってpathを形成する\n",
    "    pp = e\n",
    "    while (1):\n",
    "        if pp == s: break\n",
    "            \n",
    "        pred = G.predecessors(pp)\n",
    "        \n",
    "        count = 0\n",
    "\n",
    "        for p in pred:\n",
    "            # ここに、flow < capacity の条件を追加\n",
    "            # distの作り方から、flow < capは自然に満たされる\n",
    "            if ( G.node[p]['dist'] == G.node[pp]['dist']-1):\n",
    "                path.insert(0, (p,pp))\n",
    "                pp = p\n",
    "                break\n",
    "            else:\n",
    "                count += 1\n",
    "        \n",
    "        # 条件を満たすedgeがない\n",
    "        if count == len(pred):\n",
    "            break\n",
    "    \n",
    "    # pathがない場合\n",
    "    # 無駄な条件か？（ここまで来ているのなら、pathはあるはず。念のため残しておく。）\n",
    "    if path[0][0] != s:\n",
    "        return None\n",
    "    \n",
    "    return path"
   ]
  },
  {
   "cell_type": "code",
   "execution_count": 53,
   "metadata": {
    "code_folding": [
     0
    ],
    "collapsed": true
   },
   "outputs": [],
   "source": [
    "# 多分これで合ってる（上の２つは失敗作）\n",
    "def bfsFlowPath(G, s, e):\n",
    "    '''\n",
    "    Search a path from s to t all of whose points have strictly positive capacity.\n",
    "    \n",
    "    Inputs:\n",
    "        G: a graph\n",
    "        s: a start point\n",
    "        e: an end point\n",
    "        each edge has two attributes:\n",
    "            capacity: capacity\n",
    "            flow: its current flow which should be no more than its capacity\n",
    "    Output:\n",
    "        path: a list of edges which represents a path from s to e.\n",
    "        At each edge of the path, its current flow is strictly less than its capacity.\n",
    "        In case there is no path from s to t, return None.\n",
    "    '''\n",
    "\n",
    "    # 過去に訪れた点を記録\n",
    "    # sは最初から入れておく\n",
    "    past = [s]\n",
    "    # pathを記録するためのリスト\n",
    "    path = []\n",
    "\n",
    "    # 全ての点のsからの距離の初期値を無限大に\n",
    "    for p in G.nodes():\n",
    "        G.node[p]['dist'] = float('inf')\n",
    "    \n",
    "    # node s の距離を0に\n",
    "    G.node[s]['dist'] = 0\n",
    "    \n",
    "    # sに隣接する点をqueueに\n",
    "    # queueには、今後訪れるべき点が格納される\n",
    "    queue = deque()\n",
    "    for p in G.successors(s):\n",
    "        # current flow < capacity となるedgeだけをpathの候補に\n",
    "        # flow < capacity となるedge以外は存在しないものとして扱うのと同じ\n",
    "        if G[s][p]['flow'] < G[s][p]['capacity']:\n",
    "            queue.append(p)\n",
    "            \n",
    "    # あとで条件分岐に用いる\n",
    "    numberOfSuccessorsOfSource = len(queue)\n",
    "    \n",
    "    # sに隣接する点の距離を1に\n",
    "    for p in queue:\n",
    "        G.node[p]['dist'] = 1\n",
    "\n",
    "    # BFSを用いてflow < capacityを満たすsからeへのpathがあるのか調べる\n",
    "    # pastに過去に訪れた点を格納\n",
    "    while len(queue)>0:\n",
    "        v = queue.popleft()\n",
    "        if v == e: break\n",
    "        else:\n",
    "            past.append(v)\n",
    "            for p in G.successors(v):\n",
    "                # (過去に訪れていない and flow < capacity)を満たすedge\n",
    "                if ( (not p in past) and ( G[v][p]['flow'] < G[v][p]['capacity']) ):\n",
    "                    if ( not p in queue):\n",
    "                        queue.append(p)\n",
    "                    if G.node[p]['dist'] > G.node[v]['dist'] + 1:\n",
    "                        G.node[p]['dist'] = G.node[v]['dist'] + 1\n",
    "\n",
    "    # sからeへのpathが存在しない場合はNoneを返す\n",
    "    if numberOfSuccessorsOfSource == 0:\n",
    "        v = s\n",
    "    if v != e or v == s:\n",
    "        # print ('There is no path.')\n",
    "        return None\n",
    "    \n",
    "    # 以下、sからeへのpathが存在する場合\n",
    "    # 終点から遡ってpathを形成する\n",
    "    pp = e\n",
    "    while (1):\n",
    "        if pp == s: break\n",
    "            \n",
    "        pred = G.predecessors(pp)\n",
    "        count = 0\n",
    "\n",
    "        for p in pred:\n",
    "            # ここに、flow < capacity の条件を追加\n",
    "            # distの作り方から、flow < capは自然に満たされる???\n",
    "            if ( G.node[p]['dist'] == G.node[pp]['dist']-1 and G[p][pp]['flow'] < G[p][pp]['capacity']):\n",
    "                path.insert(0, (p,pp))\n",
    "                pp = p\n",
    "                break\n",
    "            else:\n",
    "                count += 1\n",
    "        \n",
    "        # 条件を満たすedgeがない\n",
    "        if count == len(pred):\n",
    "            break\n",
    "\n",
    "    return path"
   ]
  },
  {
   "cell_type": "code",
   "execution_count": 39,
   "metadata": {
    "collapsed": false,
    "scrolled": true
   },
   "outputs": [
    {
     "name": "stdout",
     "output_type": "stream",
     "text": [
      "[('s', 'w'), ('w', 't')]\n"
     ]
    }
   ],
   "source": [
    "# bfsFlowPathが機能することを確認\n",
    "print ( bfsFlowPath(G,'s','t') )"
   ]
  },
  {
   "cell_type": "code",
   "execution_count": 40,
   "metadata": {
    "collapsed": false
   },
   "outputs": [
    {
     "name": "stdout",
     "output_type": "stream",
     "text": [
      "None\n"
     ]
    }
   ],
   "source": [
    "# 確認その2\n",
    "print ( bfsFlowPath(G,'t','w') )"
   ]
  },
  {
   "cell_type": "code",
   "execution_count": 41,
   "metadata": {
    "collapsed": false
   },
   "outputs": [
    {
     "name": "stdout",
     "output_type": "stream",
     "text": [
      "[('s', 'v'), ('v', 'w')]\n"
     ]
    }
   ],
   "source": [
    "# 確認その3\n",
    "G['s']['w']['flow'] = 10\n",
    "print ( bfsFlowPath(G,'s','w') )"
   ]
  },
  {
   "cell_type": "code",
   "execution_count": 42,
   "metadata": {
    "collapsed": false
   },
   "outputs": [
    {
     "name": "stdout",
     "output_type": "stream",
     "text": [
      "[('s', 'v'), ('v', 't')]\n"
     ]
    }
   ],
   "source": [
    "# 確認その4\n",
    "G['s']['w']['flow'] = 10\n",
    "print ( bfsFlowPath(G,'s','t') )"
   ]
  },
  {
   "cell_type": "code",
   "execution_count": 21,
   "metadata": {
    "collapsed": false
   },
   "outputs": [
    {
     "name": "stdout",
     "output_type": "stream",
     "text": [
      "None\n"
     ]
    }
   ],
   "source": [
    "# 確認その5\n",
    "G['s']['w']['flow'] = 2\n",
    "G['s']['v']['flow'] = 3\n",
    "print ( bfsFlowPath(G, 's', 'w'))"
   ]
  },
  {
   "cell_type": "markdown",
   "metadata": {},
   "source": [
    "*bfsFlowPath*はキチンと動いていそう。次に、Naive Greedy Algorithmを実装してみる。"
   ]
  },
  {
   "cell_type": "code",
   "execution_count": null,
   "metadata": {
    "code_folding": [
     0
    ],
    "collapsed": true
   },
   "outputs": [],
   "source": [
    "def naiveGreedy(G, s, t):\n",
    "    '''\n",
    "    Inputs:\n",
    "        G: a graph\n",
    "        s: a source vertex\n",
    "        t: a sink vertex\n",
    "    Outputs:\n",
    "        the graph G whose flow was modified by this naive greedy algorithm\n",
    "        In case there is no path from s to t, return None.\n",
    "    '''\n",
    "    # initialize flows\n",
    "    for e in G.edges():\n",
    "        G[e[0]][e[1]]['flow'] = 0\n",
    "    \n",
    "    # そもそもsからtへのパスがあるのか確認\n",
    "    path = bfsFlowPath(G, s, t)\n",
    "    if path == None:\n",
    "        print (\"There is no path from \" + str(s) + \" to \"+ str(t) )\n",
    "        return None\n",
    "    \n",
    "    # sからtへのパスがある場合(lecture noteのA Naive Greedy Algorithmの部分に相当)\n",
    "    while(1):\n",
    "        path = bfsFlowPath(G, s, t)\n",
    "        if path == None:\n",
    "            break\n",
    "        else:\n",
    "            # path上のedgeについて、cap - flowの最小値を調べる\n",
    "            min = float('inf')\n",
    "            for edge in path:\n",
    "                if ( min > G[edge[0]][edge[1]]['cap'] - G[edge[0]][edge[1]]['flow'] ):\n",
    "                    min = G[edge[0]][edge[1]]['cap'] - G[edge[0]][edge[1]]['flow']\n",
    "            \n",
    "            # path上のedgeのflowを更新\n",
    "            for edge in path:\n",
    "                G[edge[0]][edge[1]]['flow'] += min\n",
    "    \n",
    "    return G"
   ]
  },
  {
   "cell_type": "code",
   "execution_count": null,
   "metadata": {
    "collapsed": false
   },
   "outputs": [],
   "source": [
    "# 実験1\n",
    "naiveGreedy(G,'t','s')"
   ]
  },
  {
   "cell_type": "code",
   "execution_count": null,
   "metadata": {
    "collapsed": false
   },
   "outputs": [],
   "source": [
    "# 実験2\n",
    "G_opt = naiveGreedy(G, 's', 't') "
   ]
  },
  {
   "cell_type": "code",
   "execution_count": null,
   "metadata": {
    "code_folding": [
     0
    ],
    "collapsed": false,
    "scrolled": true
   },
   "outputs": [],
   "source": [
    "# 描画(edgeに付いている数字は(capacity, 'flow')の意味)\n",
    "\n",
    "# Position nodes using Fruchterman-Reingold force-directed algorithm.\n",
    "# pos = nx.spring_layout(G_opt, k=5.)\n",
    "\n",
    "# 各ノードの座標を指定することも可能\n",
    "pos={'s':(0,2),'v':(3,4),'w':(3,0),'t':(6,2)}\n",
    "\n",
    "# flowとcapacityを同時に表示させようとしてみた\n",
    "# なにが起きてるのかよくわからないけど、(capacity, 'flow')というかんじでうまいこと表示されてる\n",
    "edge_labels = {(i, j): (w['cap'], str((w['flow'])) ) for i, j, w in G_opt.edges(data=True)}\n",
    "nx.draw_networkx_edge_labels(G_opt, pos, edge_labels=edge_labels, font_color='r')\n",
    "\n",
    "# Draw labels for nodes and edges.\n",
    "nx.draw_networkx_labels(G_opt, pos)\n",
    "\n",
    "# Finish drawing.\n",
    "nx.draw(G_opt, pos)\n",
    "\n",
    "# Display with Matplotlib.\n",
    "plt.axis('off')\n",
    "plt.show()"
   ]
  },
  {
   "cell_type": "markdown",
   "metadata": {},
   "source": [
    "キチンと動いている。（この場合はたまたまnaive greedy algorithmでも最大流が実現されている。）\n",
    "\n",
    "描画の際、\n",
    "[公式ドキュメント](http://networkx.readthedocs.io/en/networkx-1.11/reference/generated/networkx.drawing.nx_pylab.draw_networkx_edge_labels.html#networkx.drawing.nx_pylab.draw_networkx_edge_labels)や[見つけたスライド](http://www.logopt.com/python_learning/wp-content/uploads/2015/10/networkx.pptx)を参考にした。\n",
    "\n",
    "ノード数が小さいグラフであれば描画の際に各ノードの座標が指定した方が綺麗に描けそう。"
   ]
  },
  {
   "cell_type": "markdown",
   "metadata": {
    "collapsed": true
   },
   "source": [
    "## Residual Graphs"
   ]
  },
  {
   "cell_type": "markdown",
   "metadata": {},
   "source": [
    "Ford-Fulkerson algorithmを実装する準備として、あるグラフについて、対応するResidual graphを生成する関数(*makeResidualGraph*)を作る必要がある。"
   ]
  },
  {
   "cell_type": "code",
   "execution_count": 49,
   "metadata": {
    "code_folding": [
     0
    ],
    "collapsed": true
   },
   "outputs": [],
   "source": [
    "def makeResidualGraph(G):\n",
    "    '''\n",
    "    Input: a graph G\n",
    "    Output: its residual graph Gf\n",
    "    '''\n",
    "    Gf = G.copy()\n",
    "    edgeList = G.edges()\n",
    "    \n",
    "    for edge in edgeList:\n",
    "        # Initialize flow\n",
    "        Gf[edge[0]][edge[1]]['flow'] = 0\n",
    "        \n",
    "        # 逆向きのedgeがないものは追加\n",
    "        if not (edge[1], edge[0]) in edgeList:\n",
    "            Gf.add_edge(edge[1],edge[0])\n",
    "            Gf[edge[1]][edge[0]]['capacity'] = Gf[edge[0]][edge[1]]['flow']\n",
    "            Gf[edge[1]][edge[0]]['flow'] = 0\n",
    "    \n",
    "    return Gf"
   ]
  },
  {
   "cell_type": "code",
   "execution_count": 23,
   "metadata": {
    "collapsed": false
   },
   "outputs": [],
   "source": [
    "Gf = makeResidualGraph(G)"
   ]
  },
  {
   "cell_type": "code",
   "execution_count": 24,
   "metadata": {
    "collapsed": false
   },
   "outputs": [
    {
     "data": {
      "text/plain": [
       "[('t', 'w'),\n",
       " ('t', 'v'),\n",
       " ('s', 'w'),\n",
       " ('s', 'v'),\n",
       " ('w', 't'),\n",
       " ('w', 's'),\n",
       " ('w', 'v'),\n",
       " ('v', 't'),\n",
       " ('v', 's'),\n",
       " ('v', 'w')]"
      ]
     },
     "execution_count": 24,
     "metadata": {},
     "output_type": "execute_result"
    }
   ],
   "source": [
    "Gf.edges()"
   ]
  },
  {
   "cell_type": "code",
   "execution_count": 25,
   "metadata": {
    "collapsed": false
   },
   "outputs": [
    {
     "name": "stdout",
     "output_type": "stream",
     "text": [
      "0\n",
      "2\n",
      "0\n",
      "0\n"
     ]
    }
   ],
   "source": [
    "print(Gf['s']['w']['flow'])\n",
    "print(Gf['s']['w']['capacity'])\n",
    "print(Gf['w']['s']['flow'])\n",
    "print(Gf['w']['s']['capacity'])"
   ]
  },
  {
   "cell_type": "markdown",
   "metadata": {},
   "source": [
    "きちんと動いていそうだ。"
   ]
  },
  {
   "cell_type": "markdown",
   "metadata": {},
   "source": [
    "## Ford-Fulkerson Algorithm"
   ]
  },
  {
   "cell_type": "markdown",
   "metadata": {},
   "source": [
    "Ford-Fulkerson Algorithmを実装してみる。"
   ]
  },
  {
   "cell_type": "code",
   "execution_count": 1,
   "metadata": {
    "code_folding": [
     2
    ],
    "collapsed": true
   },
   "outputs": [],
   "source": [
    "import numpy as np\n",
    "\n",
    "def fordFulkerson(G, s, t):\n",
    "    '''\n",
    "    Inputs:\n",
    "        G: a graph\n",
    "        s: a source vertex\n",
    "        t: a sink vertex\n",
    "    Outputs:\n",
    "        the graph G whose flow was modified by Ford-Fulkerson algorithm\n",
    "        In case there is no path from s to t, return None.\n",
    "    '''\n",
    "\n",
    "    # initialize flows\n",
    "    for e in G.edges():\n",
    "        G[e[0]][e[1]]['flow'] = 0\n",
    "\n",
    "    # Forward edgesを記録\n",
    "    forwardEdges = G.edges()\n",
    "    \n",
    "    # Residual Graphの作成\n",
    "    Gf = makeResidualGraph(G)\n",
    "    \n",
    "    # そもそもGにおいてsからtへのパスがあるのか確認\n",
    "    path = bfsFlowPath(G, s, t)\n",
    "    if path == None:\n",
    "        print (\"There is no path from \" + str(s) + \" to \"+ str(t) )\n",
    "        return None\n",
    "    \n",
    "    # Gにおいてsからtへのパスがある場合\n",
    "    while(1):\n",
    "        # これ以上パスがみつからない場合は最適なのでそこでループを打ち切る\n",
    "        path = bfsFlowPath(Gf, s, t)\n",
    "        if path == None:\n",
    "            break\n",
    "\n",
    "        # まだパスがある（最適でない）場合\n",
    "        else:\n",
    "            # path上のedgeについて、capacity - flowの最小値を調べる\n",
    "            diff = float('inf')\n",
    "            for edge in path:\n",
    "                diff = np.min([diff, Gf[edge[0]][edge[1]]['capacity'] - Gf[edge[0]][edge[1]]['flow'] ])\n",
    "            \n",
    "            # path上のedgeのflowを更新\n",
    "            for edge in path:\n",
    "                if edge in forwardEdges:\n",
    "                    Gf[edge[0]][edge[1]]['flow'] += diff\n",
    "                    # このとき、backward edgeのcapacityを更新する必要あり？\n",
    "                    Gf[edge[1]][edge[0]]['capacity'] += diff\n",
    "                else:\n",
    "                    Gf[edge[0]][edge[1]]['flow'] -= diff\n",
    "                    Gf[edge[1]][edge[0]]['capacity'] -= diff\n",
    "    \n",
    "    # もともと無かったedgeを消去\n",
    "    for edge in Gf.edges():\n",
    "        if not edge in forwardEdges:\n",
    "            Gf.remove_edge(edge[0],edge[1])\n",
    "    \n",
    "    return Gf"
   ]
  },
  {
   "cell_type": "code",
   "execution_count": 58,
   "metadata": {
    "collapsed": false
   },
   "outputs": [],
   "source": [
    "# Ford-Fulkersonを用いて最大流を求めてみる\n",
    "T = fordFulkerson(G, 's', 't')"
   ]
  },
  {
   "cell_type": "code",
   "execution_count": 59,
   "metadata": {
    "collapsed": false
   },
   "outputs": [
    {
     "data": {
      "image/png": "[encoded data removed]",
      "text/plain": [
       "<matplotlib.figure.Figure at 0x10b64cb00>"
      ]
     },
     "metadata": {},
     "output_type": "display_data"
    }
   ],
   "source": [
    "# 描画(edgeに付いている数字は(capacity, 'flow')の意味)\n",
    "\n",
    "pos={'s':(0,2),'v':(3,4),'w':(3,0),'t':(6,2)}\n",
    "edge_labels = {(i, j): (w['capacity'], str((w['flow'])) ) for i, j, w in T.edges(data=True)}\n",
    "nx.draw_networkx_edge_labels(T, pos, edge_labels=edge_labels, font_color='r')\n",
    "nx.draw_networkx_labels(T, pos)\n",
    "nx.draw(T, pos)\n",
    "plt.axis('off')\n",
    "plt.show()"
   ]
  },
  {
   "cell_type": "markdown",
   "metadata": {
    "collapsed": true
   },
   "source": [
    "## NetworkXを用いて最大流問題を解く"
   ]
  },
  {
   "cell_type": "markdown",
   "metadata": {},
   "source": [
    "NetworkXには、各種ネットワーク問題を解くための機能が揃っている。ここでは最大流問題を解いてみる。\n",
    "\n",
    "* [NetworkXのmaximum flow algorithmの仕様](https://networkx.github.io/documentation/development/_modules/networkx/algorithms/flow/maxflow.html)"
   ]
  },
  {
   "cell_type": "code",
   "execution_count": null,
   "metadata": {
    "collapsed": true
   },
   "outputs": [],
   "source": [
    "# 例のグラフGを生成\n",
    "G = nx.DiGraph()\n",
    "G.add_edges_from([('s','v',{'capacity': 3}),\n",
    "                  ('s','w',{'capacity': 2}),\n",
    "                  ('v','w',{'capacity': 5}),\n",
    "                  ('v','t',{'capacity': 2}),\n",
    "                  ('w','t',{'capacity': 3})])"
   ]
  },
  {
   "cell_type": "code",
   "execution_count": null,
   "metadata": {
    "collapsed": false,
    "scrolled": true
   },
   "outputs": [],
   "source": [
    "flow_value, flows = nx.maximum_flow(G,'s','t')\n",
    "print('maximum flow: {}'.format(flow_value))\n",
    "#print(flows)\n",
    "\n",
    "caps = nx.get_edge_attributes(G, 'capacity')\n",
    "for u in nx.topological_sort(G):\n",
    "    for v, flow in sorted(flows[u].items()):\n",
    "        print('({}, {}): {}/{}'.format(u, v, flow, caps[(u, v)]))"
   ]
  },
  {
   "cell_type": "markdown",
   "metadata": {},
   "source": [
    "# Summary"
   ]
  },
  {
   "cell_type": "markdown",
   "metadata": {},
   "source": [
    "最後に、今回作った関数をまとめておく。"
   ]
  },
  {
   "cell_type": "code",
   "execution_count": 2,
   "metadata": {
    "code_folding": [
     5,
     97,
     135,
     155
    ],
    "collapsed": true
   },
   "outputs": [],
   "source": [
    "import networkx as nx\n",
    "import matplotlib.pyplot as plt\n",
    "from collections import deque\n",
    "import numpy as np\n",
    "\n",
    "def bfsFlowPath(G, s, e):\n",
    "    '''\n",
    "    Search a path from s to t all of whose points have strictly positive capacity.\n",
    "    \n",
    "    Inputs:\n",
    "        G: a graph\n",
    "        s: a start point\n",
    "        e: an end point\n",
    "        each edge has two attributes:\n",
    "            capacity: capacity\n",
    "            flow: its current flow which should be no more than its capacity\n",
    "    Output:\n",
    "        path: a list of edges which represents a path from s to e.\n",
    "        At each edge of the path, its current flow is strictly less than its capacity.\n",
    "        In case there is no path from s to t, return None.\n",
    "    '''\n",
    "\n",
    "    # 過去に訪れた点を記録\n",
    "    # sは最初から入れておく\n",
    "    past = [s]\n",
    "    # pathを記録するためのリスト\n",
    "    path = []\n",
    "\n",
    "    # 全ての点のsからの距離の初期値を無限大に\n",
    "    for p in G.nodes():\n",
    "        G.node[p]['dist'] = float('inf')\n",
    "    \n",
    "    # node s の距離を0に\n",
    "    G.node[s]['dist'] = 0\n",
    "    \n",
    "    # sに隣接する点をqueueに\n",
    "    # queueには、今後訪れるべき点が格納される\n",
    "    queue = deque()\n",
    "    for p in G.successors(s):\n",
    "        # current flow < capacity となるedgeだけをpathの候補に\n",
    "        # flow < capacity となるedge以外は存在しないものとして扱うのと同じ\n",
    "        if G[s][p]['flow'] < G[s][p]['capacity']:\n",
    "            queue.append(p)\n",
    "            \n",
    "    # あとで条件分岐に用いる\n",
    "    numberOfSuccessorsOfSource = len(queue)\n",
    "    \n",
    "    # sに隣接する点の距離を1に\n",
    "    for p in queue:\n",
    "        G.node[p]['dist'] = 1\n",
    "\n",
    "    # BFSを用いてflow < capacityを満たすsからeへのpathがあるのか調べる\n",
    "    # pastに過去に訪れた点を格納\n",
    "    while len(queue)>0:\n",
    "        v = queue.popleft()\n",
    "        if v == e: break\n",
    "        else:\n",
    "            past.append(v)\n",
    "            for p in G.successors(v):\n",
    "                # (過去に訪れていない and flow < capacity)を満たすedge\n",
    "                if ( (not p in past) and ( G[v][p]['flow'] < G[v][p]['capacity']) ):\n",
    "                    if ( not p in queue):\n",
    "                        queue.append(p)\n",
    "                    if G.node[p]['dist'] > G.node[v]['dist'] + 1:\n",
    "                        G.node[p]['dist'] = G.node[v]['dist'] + 1\n",
    "\n",
    "    # sからeへのpathが存在しない場合はNoneを返す\n",
    "    if numberOfSuccessorsOfSource == 0:\n",
    "        v = s\n",
    "    if v != e or v == s:\n",
    "        # print ('There is no path.')\n",
    "        return None\n",
    "    \n",
    "    # 以下、sからeへのpathが存在する場合\n",
    "    # 終点から遡ってpathを形成する\n",
    "    pp = e\n",
    "    while (1):\n",
    "        if pp == s: break\n",
    "            \n",
    "        pred = G.predecessors(pp)\n",
    "        count = 0\n",
    "\n",
    "        for p in pred:\n",
    "            # ここに、flow < capacity の条件を追加\n",
    "            if ( G.node[p]['dist'] == G.node[pp]['dist']-1 and G[p][pp]['flow'] < G[p][pp]['capacity']):\n",
    "                path.insert(0, (p,pp))\n",
    "                pp = p\n",
    "                break\n",
    "            else:\n",
    "                count += 1\n",
    "        \n",
    "        # 条件を満たすedgeがない\n",
    "        if count == len(pred):\n",
    "            break\n",
    "\n",
    "    return path\n",
    "\n",
    "def naiveGreedy(G, s, t):\n",
    "    '''\n",
    "    Inputs:\n",
    "        G: a graph\n",
    "        s: a source vertex\n",
    "        t: a sink vertex\n",
    "    Outputs:\n",
    "        the graph G whose flow was modified by this naive greedy algorithm\n",
    "        In case there is no path from s to t, return None.\n",
    "    '''\n",
    "    # initialize flows\n",
    "    for e in G.edges():\n",
    "        G[e[0]][e[1]]['flow'] = 0\n",
    "    \n",
    "    # そもそもsからtへのパスがあるのか確認\n",
    "    path = bfsFlowPath(G, s, t)\n",
    "    if path == None:\n",
    "        print (\"There is no path from \" + str(s) + \" to \"+ str(t) )\n",
    "        return None\n",
    "    \n",
    "    # sからtへのパスがある場合(lecture noteのA Naive Greedy Algorithmの部分に相当)\n",
    "    while(1):\n",
    "        path = bfsFlowPath(G, s, t)\n",
    "        if path == None:\n",
    "            break\n",
    "        else:\n",
    "            # path上のedgeについて、capacity - flowの最小値を調べる\n",
    "            min = float('inf')\n",
    "            for edge in path:\n",
    "                if ( min > G[edge[0]][edge[1]]['capacity'] - G[edge[0]][edge[1]]['flow'] ):\n",
    "                    min = G[edge[0]][edge[1]]['capacity'] - G[edge[0]][edge[1]]['flow']\n",
    "            \n",
    "            # path上のedgeのflowを更新\n",
    "            for edge in path:\n",
    "                G[edge[0]][edge[1]]['flow'] += min\n",
    "    \n",
    "    return G\n",
    "\n",
    "def makeResidualGraph(G):\n",
    "    '''\n",
    "    Input: a graph G\n",
    "    Output: its residual graph Gf\n",
    "    '''\n",
    "    Gf = G.copy()\n",
    "    edgeList = G.edges()\n",
    "    \n",
    "    for edge in edgeList:\n",
    "        # Initialize flow\n",
    "        Gf[edge[0]][edge[1]]['flow'] = 0\n",
    "        \n",
    "        # 逆向きのedgeがないものは追加\n",
    "        if not (edge[1], edge[0]) in edgeList:\n",
    "            Gf.add_edge(edge[1],edge[0])\n",
    "            Gf[edge[1]][edge[0]]['capacity'] = Gf[edge[0]][edge[1]]['flow']\n",
    "            Gf[edge[1]][edge[0]]['flow'] = 0\n",
    "    \n",
    "    return Gf\n",
    "\n",
    "def fordFulkerson(G, s, t):\n",
    "    '''\n",
    "    Inputs:\n",
    "        G: a graph\n",
    "        s: a source vertex\n",
    "        t: a sink vertex\n",
    "    Outputs:\n",
    "        the graph G whose flow was modified by Ford-Fulkerson algorithm\n",
    "        In case there is no path from s to t, return None.\n",
    "    '''\n",
    "\n",
    "    # initialize flows\n",
    "    for e in G.edges():\n",
    "        G[e[0]][e[1]]['flow'] = 0\n",
    "\n",
    "    # Forward edgesを記録\n",
    "    forwardEdges = G.edges()\n",
    "    \n",
    "    # Residual Graphの作成\n",
    "    Gf = makeResidualGraph(G)\n",
    "    \n",
    "    # そもそもGにおいてsからtへのパスがあるのか確認\n",
    "    path = bfsFlowPath(G, s, t)\n",
    "    if path == None:\n",
    "        print (\"There is no path from \" + str(s) + \" to \"+ str(t) )\n",
    "        return None\n",
    "    \n",
    "    # Gにおいてsからtへのパスがある場合\n",
    "    while(1):\n",
    "        # これ以上パスがみつからない場合は最適なのでそこでループを打ち切る\n",
    "        path = bfsFlowPath(Gf, s, t)\n",
    "        if path == None:\n",
    "            break\n",
    "\n",
    "        # まだパスがある（最適でない）場合\n",
    "        else:\n",
    "            # path上のedgeについて、capacity - flowの最小値を調べる\n",
    "            diff = float('inf')\n",
    "            for edge in path:\n",
    "                diff = np.min([diff, Gf[edge[0]][edge[1]]['capacity'] - Gf[edge[0]][edge[1]]['flow'] ])\n",
    "            \n",
    "            # path上のedgeのflowを更新\n",
    "            for edge in path:\n",
    "                if edge in forwardEdges:\n",
    "                    Gf[edge[0]][edge[1]]['flow'] += diff\n",
    "                    # このとき、backward edgeのcapacityを更新する必要あり？\n",
    "                    Gf[edge[1]][edge[0]]['capacity'] += diff\n",
    "                else:\n",
    "                    Gf[edge[0]][edge[1]]['flow'] -= diff\n",
    "                    Gf[edge[1]][edge[0]]['capacity'] -= diff\n",
    "    \n",
    "    # もともと無かったedgeを消去\n",
    "    for edge in Gf.edges():\n",
    "        if not edge in forwardEdges:\n",
    "            Gf.remove_edge(edge[0],edge[1])\n",
    "    \n",
    "    return Gf"
   ]
  },
  {
   "cell_type": "code",
   "execution_count": null,
   "metadata": {
    "collapsed": true
   },
   "outputs": [],
   "source": []
  }
 ],
 "metadata": {
  "anaconda-cloud": {},
  "kernelspec": {
   "display_name": "Python [default]",
   "language": "python",
   "name": "python3"
  },
  "language_info": {
   "codemirror_mode": {
    "name": "ipython",
    "version": 3
   },
   "file_extension": ".py",
   "mimetype": "text/x-python",
   "name": "python",
   "nbconvert_exporter": "python",
   "pygments_lexer": "ipython3",
   "version": "3.5.2"
  },
  "toc": {
   "nav_menu": {
    "height": "138px",
    "width": "252px"
   },
   "navigate_menu": true,
   "number_sections": true,
   "sideBar": true,
   "threshold": 4,
   "toc_cell": true,
   "toc_number_sections": true,
   "toc_section_display": "block",
   "toc_threshold": 6,
   "toc_window_display": false
  }
 },
 "nbformat": 4,
 "nbformat_minor": 1
}
