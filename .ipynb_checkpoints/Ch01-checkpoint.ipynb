{
 "cells": [
  {
   "cell_type": "markdown",
   "metadata": {
    "toc": "true"
   },
   "source": [
    "# Table of Contents\n",
    " <p><div class=\"lev1\"><a href=\"#Implementing-BFS-1\"><span class=\"toc-item-num\">1&nbsp;&nbsp;</span>Implementing BFS</a></div><div class=\"lev1\"><a href=\"#Implementing-DFS-2\"><span class=\"toc-item-num\">2&nbsp;&nbsp;</span>Implementing DFS</a></div>"
   ]
  },
  {
   "cell_type": "markdown",
   "metadata": {},
   "source": [
    "# Implementing BFS"
   ]
  },
  {
   "cell_type": "markdown",
   "metadata": {},
   "source": [
    "始点と終点が指定されたときに始点から終点に至るパスのうちの一つを求めるアルゴリズムを実装したい。Breadth First Search(BFS, 幅優先探索)を用いて実装できるらしいので、試してみる。\n",
    "\n",
    "BFSの実装にはQueueというデータ構造を用いる。Pythonでは、dequeというデータ構造（stackとqueueを合わせたようなデータ構造）が提供されているので、それを用いる。\n",
    "\n",
    "[このページ](http://www.ocw.titech.ac.jp/index.php?module=General&action=DownLoad&file=201602093-9183-1-11.pdf&type=cal&JWC=201602093)も参考になりそう。"
   ]
  },
  {
   "cell_type": "markdown",
   "metadata": {},
   "source": [
    ">Given a graph $G$ and a starting vertex $s$, a breadth first search proceeds by exploring edges in the graph to find all the vertices in $G$ for which there is a path from $s$. The remarkable thing about a breadth first search is that it finds all the vertices that are a distance $k$ from ss before it finds any vertices that are a distance $k+1$. (http://interactivepython.org/runestone/static/pythonds/Graphs/ImplementingBreadthFirstSearch.html)"
   ]
  },
  {
   "cell_type": "code",
   "execution_count": 2,
   "metadata": {
    "collapsed": false
   },
   "outputs": [],
   "source": [
    "# dequeをimport\n",
    "from collections import deque"
   ]
  },
  {
   "cell_type": "code",
   "execution_count": 3,
   "metadata": {
    "collapsed": false
   },
   "outputs": [
    {
     "name": "stdout",
     "output_type": "stream",
     "text": [
      "deque([1, 2, 3, 4, 5])\n",
      "deque([1, 2, 3, 4, 5, 0])\n",
      "0\n",
      "deque([1, 2, 3, 4, 5])\n",
      "1\n",
      "deque([2, 3, 4, 5])\n"
     ]
    }
   ],
   "source": [
    "# dequeのメソッドの確認\n",
    "\n",
    "d = deque([1,2,3,4,5])\n",
    "print (d)\n",
    "\n",
    "# append: push/enqueueに対応\n",
    "d.append(0)\n",
    "print (d)\n",
    "\n",
    "# pop: 右の要素を削除し、返す\n",
    "print (d.pop())\n",
    "print (d)\n",
    "\n",
    "# popleft: 一番左の要素を削除し、返す\n",
    "print (d.popleft())\n",
    "print (d)"
   ]
  },
  {
   "cell_type": "code",
   "execution_count": 4,
   "metadata": {
    "collapsed": true
   },
   "outputs": [],
   "source": [
    "# NetworkXをインポート\n",
    "import networkx as nx"
   ]
  },
  {
   "cell_type": "code",
   "execution_count": 40,
   "metadata": {
    "collapsed": true
   },
   "outputs": [],
   "source": [
    "G = nx.DiGraph()"
   ]
  },
  {
   "cell_type": "code",
   "execution_count": 41,
   "metadata": {
    "collapsed": true
   },
   "outputs": [],
   "source": [
    "G.add_edges_from([(1,2),(1,3),(1,4),(2,4),(2,5),(3,4),(4,5)])"
   ]
  },
  {
   "cell_type": "code",
   "execution_count": 9,
   "metadata": {
    "collapsed": true
   },
   "outputs": [],
   "source": [
    "import matplotlib.pyplot as plt"
   ]
  },
  {
   "cell_type": "code",
   "execution_count": 11,
   "metadata": {
    "code_folding": [
     0
    ],
    "collapsed": false
   },
   "outputs": [
    {
     "data": {
      "image/png": "[encoded data removed]",
      "text/plain": [
       "<matplotlib.figure.Figure at 0x10b3b66a0>"
      ]
     },
     "metadata": {},
     "output_type": "display_data"
    }
   ],
   "source": [
    "#試しに描画してみる\n",
    "# Position nodes using Fruchterman-Reingold force-directed algorithm.\n",
    "pos = nx.spring_layout(G, k=5.)\n",
    "\n",
    "# Draw labels for nodes and edges.\n",
    "nx.draw_networkx_labels(G, pos)\n",
    "\n",
    "# Finish drawing.\n",
    "nx.draw(G, pos)\n",
    "\n",
    "# Display with Matplotlib.\n",
    "plt.axis('off')\n",
    "plt.show()"
   ]
  },
  {
   "cell_type": "code",
   "execution_count": 42,
   "metadata": {
    "collapsed": false
   },
   "outputs": [
    {
     "data": {
      "text/plain": [
       "[2, 3, 4]"
      ]
     },
     "execution_count": 42,
     "metadata": {},
     "output_type": "execute_result"
    }
   ],
   "source": [
    "G.successors(1)"
   ]
  },
  {
   "cell_type": "code",
   "execution_count": 62,
   "metadata": {
    "code_folding": [],
    "collapsed": false
   },
   "outputs": [],
   "source": [
    "def bfsPath(G, s, e):\n",
    "    '''\n",
    "    Inputs:\n",
    "        G: a graph\n",
    "        s: a start point\n",
    "        e: an end point\n",
    "    Output:\n",
    "        path: a list of edges which represents a path from s to e.\n",
    "        the number of nodes the path contains is smallest.\n",
    "    '''\n",
    "\n",
    "    past = []\n",
    "    path = []\n",
    "\n",
    "    # node s の距離を0に\n",
    "    G.node[1]['dist'] = 0\n",
    "    \n",
    "    # sに隣接する点をqueueに\n",
    "    queue = deque(G.successors(s))\n",
    "    \n",
    "    # sに隣接する点の距離を1に\n",
    "    for p in G.successors(s):\n",
    "        G.node[p]['dist'] = 1\n",
    "\n",
    "    while len(queue)>0:\n",
    "        v = queue.popleft()\n",
    "        if v == e: break\n",
    "        else:\n",
    "            past.append(v)\n",
    "            for p in G.successors(v):\n",
    "                if (not p in past):\n",
    "                    queue.append(p)\n",
    "                    if G.node[p]['dist'] > G.node[v]['dist'] + 1:\n",
    "                        G.node[p]['dist'] = G.node[v]['dist'] + 1\n",
    "\n",
    "    pp = e\n",
    "    \n",
    "    while (1):\n",
    "        if pp == s:\n",
    "            break\n",
    "        pred = G.predecessors(pp)\n",
    "        for p in pred:\n",
    "            if G.node[p]['dist'] == G.node[pp]['dist']-1:\n",
    "                path.insert(0, (p,pp))\n",
    "                pp = p\n",
    "                break\n",
    "    \n",
    "    return path"
   ]
  },
  {
   "cell_type": "code",
   "execution_count": 61,
   "metadata": {
    "collapsed": false
   },
   "outputs": [
    {
     "data": {
      "text/plain": [
       "[(1, 2), (2, 5)]"
      ]
     },
     "execution_count": 61,
     "metadata": {},
     "output_type": "execute_result"
    }
   ],
   "source": [
    "# G上の1から5に至るpathの一つを求める\n",
    "bfsPath(G,1,5)"
   ]
  },
  {
   "cell_type": "code",
   "execution_count": null,
   "metadata": {
    "collapsed": true
   },
   "outputs": [],
   "source": []
  }
 ],
 "metadata": {
  "kernelspec": {
   "display_name": "Python 3",
   "language": "python",
   "name": "python3"
  },
  "language_info": {
   "codemirror_mode": {
    "name": "ipython",
    "version": 3
   },
   "file_extension": ".py",
   "mimetype": "text/x-python",
   "name": "python",
   "nbconvert_exporter": "python",
   "pygments_lexer": "ipython3",
   "version": "3.4.5"
  },
  "toc": {
   "toc_cell": true,
   "toc_number_sections": true,
   "toc_threshold": 6,
   "toc_window_display": false
  }
 },
 "nbformat": 4,
 "nbformat_minor": 1
}
