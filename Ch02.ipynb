{
 "cells": [
  {
   "cell_type": "markdown",
   "metadata": {
    "toc": "true"
   },
   "source": [
    "# Table of Contents\n",
    " <p><div class=\"lev1\"><a href=\"#Recap-1\"><span class=\"toc-item-num\">1&nbsp;&nbsp;</span>Recap</a></div><div class=\"lev1\"><a href=\"#The-Edmonds-Karp-Algorithm:-Shortest-Augmenting-Paths-2\"><span class=\"toc-item-num\">2&nbsp;&nbsp;</span>The Edmonds-Karp Algorithm: Shortest Augmenting Paths</a></div><div class=\"lev1\"><a href=\"#Dinic's-Algorithm:-Blocking-Flows-3\"><span class=\"toc-item-num\">3&nbsp;&nbsp;</span>Dinic's Algorithm: Blocking Flows</a></div>"
   ]
  },
  {
   "cell_type": "markdown",
   "metadata": {},
   "source": [
    "# Recap"
   ]
  },
  {
   "cell_type": "markdown",
   "metadata": {},
   "source": [
    "とりあえず、復習がてらFigure 2のグラフの最大流をNetworkXのモジュールを用いて求めてみる。"
   ]
  },
  {
   "cell_type": "code",
   "execution_count": 13,
   "metadata": {
    "collapsed": false
   },
   "outputs": [],
   "source": [
    "import networkx as nx\n",
    "import matplotlib.pyplot as plt\n",
    "import numpy as np"
   ]
  },
  {
   "cell_type": "code",
   "execution_count": 14,
   "metadata": {
    "collapsed": true
   },
   "outputs": [],
   "source": [
    "# Figure2のグラフを生成\n",
    "G = nx.DiGraph()\n",
    "G.add_edges_from([('s','v',{'capacity': 1}),\n",
    "                  ('s','w',{'capacity': 100}),\n",
    "                  ('w','v',{'capacity': 1}),\n",
    "                  ('v','t',{'capacity': 100}),\n",
    "                  ('w','t',{'capacity': 1})])"
   ]
  },
  {
   "cell_type": "code",
   "execution_count": 15,
   "metadata": {
    "collapsed": false,
    "scrolled": true
   },
   "outputs": [
    {
     "name": "stdout",
     "output_type": "stream",
     "text": [
      "maximum flow: 3\n",
      "(s, v): 1/1\n",
      "(s, w): 2/100\n",
      "(w, t): 1/1\n",
      "(w, v): 1/1\n",
      "(v, t): 2/100\n"
     ]
    }
   ],
   "source": [
    "flow_value, flows = nx.maximum_flow(G,'s','t')\n",
    "print('maximum flow: {}'.format(flow_value))\n",
    "\n",
    "caps = nx.get_edge_attributes(G, 'capacity')\n",
    "for u in nx.topological_sort(G):\n",
    "    for v, flow in sorted(flows[u].items()):\n",
    "        print('({}, {}): {}/{}'.format(u, v, flow, caps[(u, v)]))"
   ]
  },
  {
   "cell_type": "markdown",
   "metadata": {},
   "source": [
    "念のため、前回自作したFord Fulkerson algorithmも試してみる。いずれの結果も、the maximum flowが3であることを示している。"
   ]
  },
  {
   "cell_type": "code",
   "execution_count": 16,
   "metadata": {
    "code_folding": [
     0
    ],
    "collapsed": true
   },
   "outputs": [],
   "source": [
    "#前回作ったやつ\n",
    "    import networkx as nx\n",
    "    import matplotlib.pyplot as plt\n",
    "    from collections import deque\n",
    "\n",
    "    def bfsFlowPath(G, s, e):\n",
    "        '''\n",
    "        Inputs:\n",
    "            G: a graph\n",
    "            s: a start point\n",
    "            e: an end point\n",
    "            each edge has two attributes:\n",
    "                capacity: capacity\n",
    "                flow: its current flow which should be no more than its capacity\n",
    "        Output:\n",
    "            path: a list of edges which represents a path from s to e.\n",
    "            At each node of the path, its current flow is strictly less than its capacity.\n",
    "        In case there is no path from s to t, return None.\n",
    "    '''\n",
    "\n",
    "    past = [] # 過去に訪れた点を記録\n",
    "    path = []\n",
    "\n",
    "    # 全ての点のsからの距離の初期値を無限大に\n",
    "    for p in G.nodes():\n",
    "        G.node[p]['dist'] = float('inf')\n",
    "    \n",
    "    # node s の距離を0に\n",
    "    G.node[s]['dist'] = 0\n",
    "    \n",
    "    # sに隣接する点をqueueに\n",
    "    # queueには、今後訪れるべき点が格納される\n",
    "    queue = deque()\n",
    "    for p in G.successors(s):\n",
    "        # current flow < capacity となるedgeだけをpathの候補に\n",
    "        # flow < capacity となるedge以外は存在しないものとして扱うのと同じ\n",
    "        if G[s][p]['flow'] < G[s][p]['capacity']:\n",
    "            queue.append(p)\n",
    "            \n",
    "    # あとで条件分岐に用いる\n",
    "    numberOfSuccessorsOfSource = len(queue)\n",
    "    \n",
    "    # sに隣接する点の距離を1に\n",
    "    for p in queue:\n",
    "        G.node[p]['dist'] = 1\n",
    "\n",
    "    # BFSを用いてflow < capを満たすsからeへのpathがあるのか調べる\n",
    "    # pastに過去に訪れた点を格納\n",
    "    while len(queue)>0:\n",
    "        v = queue.popleft()\n",
    "        if v == e: break\n",
    "        else:\n",
    "            past.append(v)\n",
    "            for p in G.successors(v):\n",
    "                # ここのif文の条件を変えた\n",
    "                # (過去に訪れていない and flow < capacity)を満たすedge\n",
    "                if ( (not p in past) and ( G[v][p]['flow'] < G[v][p]['capacity']) ):\n",
    "                    if ( not p in queue):\n",
    "                        queue.append(p)\n",
    "                    if G.node[p]['dist'] > G.node[v]['dist'] + 1:\n",
    "                        G.node[p]['dist'] = G.node[v]['dist'] + 1\n",
    "\n",
    "    # sからeへのpathが存在しない場合はNoneを返す\n",
    "    if numberOfSuccessorsOfSource == 0:\n",
    "        v = s\n",
    "    if v != e or v == s:\n",
    "        # print ('There is no path.')\n",
    "        return None\n",
    "    \n",
    "    # 以下、sからeへのpathが存在する場合\n",
    "    # 終点から遡ってpathを形成する\n",
    "    pp = e\n",
    "    while (1):\n",
    "        if pp == s: break\n",
    "            \n",
    "        pred = G.predecessors(pp)\n",
    "        \n",
    "        count = 0\n",
    "\n",
    "        for p in pred:\n",
    "            # ここに、flow < capacity の条件を追加\n",
    "            # distの作り方から、flow < capacityは自然に満たされる\n",
    "            if ( G.node[p]['dist'] == G.node[pp]['dist']-1):\n",
    "                path.insert(0, (p,pp))\n",
    "                pp = p\n",
    "                break\n",
    "            else:\n",
    "                count += 1\n",
    "        \n",
    "        # 条件を満たすedgeがない\n",
    "        if count == len(pred):\n",
    "            break\n",
    "    \n",
    "    # pathがない場合\n",
    "    # 無駄な条件か？（ここまで来ているのなら、pathはあるはず。念のため残しておく。）\n",
    "    if path[0][0] != s:\n",
    "        return None\n",
    "    \n",
    "    return path\n",
    "\n",
    "def makeResidualGraph(G):\n",
    "    '''\n",
    "    Input: a graph G\n",
    "    Output: its residual graph Gf\n",
    "    '''\n",
    "    Gf = G.copy()\n",
    "    edgeList = G.edges()\n",
    "    \n",
    "    # 逆向きのedgeがないものは追加\n",
    "    for edge in edgeList:\n",
    "        if not (edge[1], edge[0]) in edgeList:\n",
    "            Gf.add_edge(edge[1],edge[0])\n",
    "            Gf[edge[1]][edge[0]]['capacity'] = Gf[edge[0]][edge[1]]['flow']\n",
    "            Gf[edge[1]][edge[0]]['flow'] = 0\n",
    "    \n",
    "    for edge in edgeList:\n",
    "        Gf[edge[0]][edge[1]]['capacity'] = Gf[edge[0]][edge[1]]['capacity'] - Gf[edge[0]][edge[1]]['flow']\n",
    "        Gf[edge[1]][edge[0]]['capacity'] = Gf[edge[0]][edge[1]]['flow']\n",
    "        Gf[edge[0]][edge[1]]['flow'] = 0\n",
    "        Gf[edge[1]][edge[0]]['flow'] = 0\n",
    "    \n",
    "    return Gf\n",
    "\n",
    "def fordFulkerson(G, s, t):\n",
    "    '''\n",
    "    Inputs:\n",
    "        G: a graph\n",
    "        s: a source vertex\n",
    "        t: a sink vertex\n",
    "    Outputs:\n",
    "        the graph G whose flow was modified by Ford-Fulkerson algorithm\n",
    "        In case there is no path from s to t, return None.\n",
    "    '''\n",
    "    # initialize flows\n",
    "    for e in G.edges():\n",
    "        G[e[0]][e[1]]['flow'] = 0\n",
    "        \n",
    "    # Forward edgesを記録\n",
    "    forwardEdges = G.edges()\n",
    "    \n",
    "    # Residual Graphの作成\n",
    "    Gf = makeResidualGraph(G)\n",
    "    \n",
    "    # そもそもGにおいてsからtへのパスがあるのか確認\n",
    "    path = bfsFlowPath(G, s, t)\n",
    "    if path == None:\n",
    "        print (\"There is no path from \" + str(s) + \" to \"+ str(t) )\n",
    "        return None\n",
    "    \n",
    "    # Gにおいてsからtへのパスがある場合\n",
    "    while(1):\n",
    "        path = bfsFlowPath(Gf, s, t)\n",
    "        if path == None:\n",
    "            break\n",
    "        else:\n",
    "            # path上のedgeについて、capacity - flowの最小値を調べる\n",
    "            min = float('inf')\n",
    "            for edge in path:\n",
    "                if ( min > Gf[edge[0]][edge[1]]['capacity'] - Gf[edge[0]][edge[1]]['flow'] ):\n",
    "                    min = Gf[edge[0]][edge[1]]['capacity'] - Gf[edge[0]][edge[1]]['flow']\n",
    "            \n",
    "            # path上のedgeのflowを更新\n",
    "            for edge in path:\n",
    "                if edge in forwardEdges:\n",
    "                    Gf[edge[0]][edge[1]]['flow'] += min\n",
    "                else:\n",
    "                    Gf[edge[1]][edge[0]]['flow'] -= min\n",
    "    \n",
    "    # もともと無かったedgeを消去\n",
    "    for edge in Gf.edges():\n",
    "        if not edge in forwardEdges:\n",
    "            Gf.remove_edge(edge[0],edge[1])\n",
    "    \n",
    "    return Gf"
   ]
  },
  {
   "cell_type": "code",
   "execution_count": 17,
   "metadata": {
    "collapsed": false
   },
   "outputs": [],
   "source": [
    "T = fordFulkerson(G, 's', 't')"
   ]
  },
  {
   "cell_type": "code",
   "execution_count": 18,
   "metadata": {
    "code_folding": [],
    "collapsed": false
   },
   "outputs": [
    {
     "data": {
      "image/png": "[encoded data removed]",
      "text/plain": [
       "<matplotlib.figure.Figure at 0x10ec3f048>"
      ]
     },
     "metadata": {},
     "output_type": "display_data"
    }
   ],
   "source": [
    "# 描画(edgeに付いている数字は(capacity, 'flow')の意味)\n",
    "\n",
    "pos={'s':(0,2),'v':(3,4),'w':(3,0),'t':(6,2)}\n",
    "edge_labels = {(i, j): (w['capacity'], str((w['flow'])) ) for i, j, w in T.edges(data=True)}\n",
    "nx.draw_networkx_edge_labels(T, pos, edge_labels=edge_labels, font_color='r')\n",
    "nx.draw_networkx_labels(T, pos)\n",
    "nx.draw(T, pos)\n",
    "plt.axis('off')\n",
    "plt.show()"
   ]
  },
  {
   "cell_type": "markdown",
   "metadata": {},
   "source": [
    "# The Edmonds-Karp Algorithm: Shortest Augmenting Paths"
   ]
  },
  {
   "cell_type": "markdown",
   "metadata": {},
   "source": [
    "Ford-Fulkerson algorithmではpathの選び方を特に定めていなかった。（そのため、pseudopolynomial-time algorithmになっている。）*Edmonds-Karp algorithm*では、もう少し「賢く」　i.e. the shortest augmenting pathになるようにpathを選ぶ。こちらは、$O(m^2n)$ timeのalgorithmになっている。\n",
    "\n",
    "BFSを用いればpathは自然とshortestになるので、前回作った*fordFulkerson*は実は*Edmonds-Karp algorithm*にもなっている。"
   ]
  },
  {
   "cell_type": "markdown",
   "metadata": {},
   "source": [
    "# Dinic's Algorithm: Blocking Flows"
   ]
  },
  {
   "cell_type": "markdown",
   "metadata": {},
   "source": [
    "BFSを用いてblocking flowsを求めると$O(m^2)$の時間がかかるが、Problem Sets #1 にあるDFSを持ちいた方法を用いれば$O(mn)$の時間で求められるらしい。Lemma 4.2と併せれば、Dinic's algorithmの所要時間は$O(mn^2)$となり、EK algorithmより効率的なalgorithmになる。\n",
    "\n",
    "実装は後日余裕があれば。"
   ]
  }
 ],
 "metadata": {
  "kernelspec": {
   "display_name": "Python 3",
   "language": "python",
   "name": "python3"
  },
  "language_info": {
   "codemirror_mode": {
    "name": "ipython",
    "version": 3
   },
   "file_extension": ".py",
   "mimetype": "text/x-python",
   "name": "python",
   "nbconvert_exporter": "python",
   "pygments_lexer": "ipython3",
   "version": "3.4.5"
  },
  "toc": {
   "toc_cell": true,
   "toc_number_sections": true,
   "toc_threshold": 6,
   "toc_window_display": false
  }
 },
 "nbformat": 4,
 "nbformat_minor": 1
}
