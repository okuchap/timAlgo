{
 "cells": [
  {
   "cell_type": "markdown",
   "metadata": {},
   "source": [
    "# Simplex Methods\n",
    "とりあえず、ピボット更新の原始的な単体法を実装してみた。\n",
    "（実行可能な初期値は与えられており、かつ、無限巡回はしない場合についてのみ動作。）"
   ]
  },
  {
   "cell_type": "code",
   "execution_count": 1,
   "metadata": {
    "collapsed": true
   },
   "outputs": [],
   "source": [
    "import numpy as np\n",
    "\n",
    "\n",
    "def simplex(c, A, b, basis, nonbasis, x=None):\n",
    "    '''\n",
    "    c: n x 1, A: m x n, b = m x 1\n",
    "    x: n x 1, initial value\n",
    "    basis: m x 1, nonbasis: (n-m) x 1\n",
    "\n",
    "    c, A, b, x: numpy array\n",
    "    basis, nonbasis: python list\n",
    "    '''\n",
    "\n",
    "    m = len(A)\n",
    "    n = len(c)\n",
    "\n",
    "    if x is None:\n",
    "        x = np.array([0.0] * n)\n",
    "\n",
    "    optVal = x.dot(c)\n",
    "\n",
    "    # check feasibility\n",
    "    for test in range(m):\n",
    "        if (A.dot(x) > b)[test]:\n",
    "            print('infeasible')\n",
    "            return None\n",
    "\n",
    "    # pivoting\n",
    "    EPSILON = 10**(-5)\n",
    "    TIME = 0\n",
    "    while(np.max(c) > EPSILON):\n",
    "        # choose j_pivot\n",
    "        c_nonbasis = np.array([c[i] if i in nonbasis else -float('inf') for i in range(len(c))])\n",
    "        j_pivot = np.argmax(c_nonbasis)\n",
    "\n",
    "        # check boundedness\n",
    "        a = np.max(A.T[j_pivot])\n",
    "        if a <= 0:\n",
    "            print('unbounded')\n",
    "            return None\n",
    "\n",
    "        # choose pivot\n",
    "        pivot_column = [i / j if j != 0 else float('inf') for i, j in zip(b, A.T[j_pivot])]\n",
    "        # pivot_column = b / A.T[j_pivot] としてもよいがdevided by zero errorがうるさい\n",
    "        pivot_column = [pivot_column[i] if pivot_column[i] >= 0 else float('inf') for i in range(len(pivot_column))]\n",
    "        i_pivot = np.argmin(pivot_column)\n",
    "        stepsize = np.min(pivot_column)\n",
    "        optVal += stepsize * c[j_pivot]\n",
    "\n",
    "        # update basis and nonbasis\n",
    "        nonbasis.append(basis[i_pivot])\n",
    "        nonbasis.remove(j_pivot)\n",
    "        basis[i_pivot] = j_pivot\n",
    "\n",
    "        # update A, b, and c\n",
    "        b[i_pivot], A[i_pivot] = b[i_pivot] / A[i_pivot][j_pivot], A[i_pivot] / A[i_pivot][j_pivot]\n",
    "        A[i_pivot][j_pivot] = 0\n",
    "\n",
    "        for i in range(m):\n",
    "            if i != i_pivot:\n",
    "                A[i] = A[i] - A[i_pivot] * A[i][j_pivot]\n",
    "                b[i] = b[i] - b[i_pivot] * A[i][j_pivot]\n",
    "                A[i][j_pivot] = 0\n",
    "\n",
    "        c = c - A[i_pivot] * c[j_pivot]\n",
    "        c[j_pivot] = 0\n",
    "\n",
    "        # for debugging\n",
    "        TIME += 1\n",
    "        solution = [b[basis.index(i)] if i in basis else 0 for i in range(n)]\n",
    "        print('loop no.{}: val = {}、sol = {}'.format(TIME, optVal, solution))\n",
    "        if TIME > 100:\n",
    "            break\n",
    "\n",
    "\n",
    "    print('opt.val. = {}, opt.sol. = {}'.format(optVal, solution))\n"
   ]
  },
  {
   "cell_type": "markdown",
   "metadata": {},
   "source": [
    "# Interior-Point Methods"
   ]
  },
  {
   "cell_type": "markdown",
   "metadata": {},
   "source": [
    "> 内点法は、許容領域の\"内点\"をたどりながら最適解に収束するような点列を発生させる。（中略）点列の発生の仕方により、様々な内点法が提案されており、これらは**パス追跡法**、**アフィンスケーリング法**、**ポテンシャル減少法**と３つに大別される。次節で紹介する（引用注：lecture note中で紹介されているのもこれ）内点法は、パス追跡法の一種で、最適面の\"解析的中心\"と呼ばれる解に収束する\"中心パス\"という曲線の近傍に点列を生成する方法である。(田村・村松『最適化法』 pp.56-57)\n",
    "\n",
    "* Simplex Method: along the boundary\n",
    "* Ellipsoid Method: outside in\n",
    "* Interior-Point Method: inside out\n",
    "\n",
    "The interior-point method presented in the lecture note is one of many genres of interior-point methods, called *Sequential Unconstrained Minimization Technique(SUMT, 古典的な意味での内点法)* or *barrier function method*."
   ]
  },
  {
   "cell_type": "markdown",
   "metadata": {},
   "source": [
    "Transform the original problem with restrictions into the problem without restriction by using a barrier function.\n",
    "\n",
    "The new objective function: $$\\phi(x) = c^{T}x - \\lambda \\cdot f(d)$$, where $d$ = the distance between $x$ and the boundary\n",
    "\n",
    "* $\\lambda \\geq 0$: a barrier parameter\n",
    "    * Determine how greatly the barrier function affects the value of $\\phi$\n",
    "\n",
    "1. Initially set $\\lambda$ so big so that we can easily know the initial point, and then decrease it gradually.\n",
    "1. Culculate the optimal $x^{*}(\\lambda)$ for each $\\lambda$. We can use Newton's method for example.\n",
    "1. As $\\lambda$ tends to zero, $x^{*}(\\lambda)$ tends to the optimal solution of the original problem."
   ]
  },
  {
   "cell_type": "code",
   "execution_count": 2,
   "metadata": {
    "collapsed": false
   },
   "outputs": [
    {
     "data": {
      "text/plain": [
       "[]"
      ]
     },
     "execution_count": 2,
     "metadata": {},
     "output_type": "execute_result"
    },
    {
     "data": {
      "image/png": "[encoded data removed]",
      "text/plain": [
       "<matplotlib.figure.Figure at 0x10abb8a90>"
      ]
     },
     "metadata": {},
     "output_type": "display_data"
    }
   ],
   "source": [
    "# 例：単純な線形計画問題をSUMTで解いてみる\n",
    "\n",
    "%matplotlib inline\n",
    "import numpy as np\n",
    "import matplotlib.pyplot as plt\n",
    "from math import *\n",
    "from pylab import *\n",
    "\n",
    "fig, ax = plt.subplots()\n",
    "\n",
    "x = np.arange(0, 5, 0.01)\n",
    "y1 = 1 - (1/3) * x\n",
    "y2 = 3 - 3 * x\n",
    "y3 = 1.5 - x\n",
    "z = minimum(y1, y2)\n",
    "\n",
    "ax.fill_between(x, z, 0, z>0, facecolor='y', alpha=0.2)\n",
    "\n",
    "ax.set_xlim(0, 1.5)\n",
    "ax.set_ylim(0, 1.5)\n",
    "\n",
    "ax.plot(x, y1, color=\"gray\", label='y1', ls='-')\n",
    "ax.plot(x, y2, color=\"k\", label='y2', ls='-')\n",
    "ax.plot(x, y3, color='b', ls='-.', label='objective function')\n",
    "ax.plot(0.75, 0.75, 'ro')\n",
    "ax.text(0.75, 0.75, str(r'$x^{*}$'), withdash=True, dashlength=50, dashrotation=45)\n",
    "plt.legend()\n",
    "#plt.savefig('image/simple_plot0.png')\n",
    "plt.plot()"
   ]
  },
  {
   "cell_type": "markdown",
   "metadata": {},
   "source": [
    "元問題：\n",
    "$$ \\max_{x, y} x + y \\\\ \\frac{1}{3}x + y - 1 \\leq 0 \\\\ 3x + y - 3 \\leq 0 \\\\ x,y \\geq 0$$\n",
    "\n",
    "バリア関数を用いて目的関数を変換：\n",
    "\n",
    "$$ \\max_{x,y} \\phi(x,y ; \\lambda) = x + y + \\lambda \\cdot ( \\log(-\\frac{1}{3}x - y + 1) + \\log(-3x - y + 3) + \\log(x) + \\log(y) ) $$"
   ]
  },
  {
   "cell_type": "code",
   "execution_count": 5,
   "metadata": {
    "collapsed": false
   },
   "outputs": [],
   "source": [
    "import numpy as np\n",
    "from scipy.optimize import minimize, newton\n",
    "\n",
    "def objectiveFunction(x):\n",
    "    l = 10\n",
    "    f = - x[0] - x[1] - l*(np.log(-(1/3)*x[0] - x[1] + 1) + np.log(-3*x[0] - x[1] + 3) + np.log(x[0]) + np.log(x[1]))\n",
    "    return f"
   ]
  },
  {
   "cell_type": "code",
   "execution_count": 14,
   "metadata": {
    "collapsed": true
   },
   "outputs": [
    {
     "name": "stdout",
     "output_type": "stream",
     "text": [
      "      fun: nan\n",
      " hess_inv: array([[1, 0],\n",
      "       [0, 1]])\n",
      "      jac: array([ nan,  nan])\n",
      "  message: 'Desired error not necessarily achieved due to precision loss.'\n",
      "     nfev: 448\n",
      "      nit: 1\n",
      "     njev: 112\n",
      "   status: 2\n",
      "  success: False\n",
      "        x: array([ 731.41811737,  731.41811737])\n"
     ]
    },
    {
     "name": "stderr",
     "output_type": "stream",
     "text": [
      "/Users/KYO/.pyenv/versions/anaconda3-4.1.1/lib/python3.5/site-packages/ipykernel/__main__.py:6: RuntimeWarning: invalid value encountered in log\n",
      "/Users/KYO/.pyenv/versions/anaconda3-4.1.1/lib/python3.5/site-packages/ipykernel/__main__.py:6: RuntimeWarning: invalid value encountered in log\n",
      "/Users/KYO/.pyenv/versions/anaconda3-4.1.1/lib/python3.5/site-packages/ipykernel/__main__.py:6: RuntimeWarning: invalid value encountered in log\n"
     ]
    }
   ],
   "source": [
    "# 非線形最適化なので、newton法などを用いる必要あり\n",
    "# なぜうまくいかないのか・・・\n",
    "x0 = [0.1, 0.1]\n",
    "res = minimize(objectiveFunction, x0)\n",
    "print(res)"
   ]
  },
  {
   "cell_type": "code",
   "execution_count": 11,
   "metadata": {
    "collapsed": true
   },
   "outputs": [],
   "source": [
    "def y1(x):\n",
    "    f = np.log(-(1/3)*x[0] - x[1] + 1)\n",
    "    return f"
   ]
  },
  {
   "cell_type": "code",
   "execution_count": 12,
   "metadata": {
    "collapsed": false
   },
   "outputs": [
    {
     "data": {
      "text/plain": [
       "-1.6094379124341001"
      ]
     },
     "execution_count": 12,
     "metadata": {},
     "output_type": "execute_result"
    }
   ],
   "source": [
    "y1(x0)"
   ]
  },
  {
   "cell_type": "code",
   "execution_count": 15,
   "metadata": {
    "collapsed": true
   },
   "outputs": [],
   "source": [
    "def y2(x):\n",
    "    f = np.log(-3*x[0] - x[1] + 3)\n",
    "    return f"
   ]
  },
  {
   "cell_type": "code",
   "execution_count": 16,
   "metadata": {
    "collapsed": false
   },
   "outputs": [
    {
     "data": {
      "text/plain": [
       "-0.5108256237659905"
      ]
     },
     "execution_count": 16,
     "metadata": {},
     "output_type": "execute_result"
    }
   ],
   "source": [
    "y2(x0)"
   ]
  },
  {
   "cell_type": "code",
   "execution_count": 17,
   "metadata": {
    "collapsed": false
   },
   "outputs": [
    {
     "data": {
      "text/plain": [
       "-0.51082562376599072"
      ]
     },
     "execution_count": 17,
     "metadata": {},
     "output_type": "execute_result"
    }
   ],
   "source": [
    "np.log(x0[0])"
   ]
  },
  {
   "cell_type": "code",
   "execution_count": 18,
   "metadata": {
    "collapsed": false
   },
   "outputs": [
    {
     "data": {
      "text/plain": [
       "-0.51082562376599072"
      ]
     },
     "execution_count": 18,
     "metadata": {},
     "output_type": "execute_result"
    }
   ],
   "source": [
    "np.log(x0[1])"
   ]
  },
  {
   "cell_type": "code",
   "execution_count": 84,
   "metadata": {
    "collapsed": true
   },
   "outputs": [],
   "source": [
    "# 一変数の例\n",
    "def func(x):\n",
    "    l = 2\n",
    "    f = x + 1 - l*np.log(x)\n",
    "    return f"
   ]
  },
  {
   "cell_type": "code",
   "execution_count": 93,
   "metadata": {
    "collapsed": false
   },
   "outputs": [
    {
     "name": "stdout",
     "output_type": "stream",
     "text": [
      "2.0000000000629514\n"
     ]
    }
   ],
   "source": [
    "x0 = [1]\n",
    "res = minimize(func, x0, method=\"powell\")\n",
    "print(res.x)"
   ]
  },
  {
   "cell_type": "code",
   "execution_count": 114,
   "metadata": {
    "collapsed": true
   },
   "outputs": [],
   "source": [
    "df = np.arange(0, 2, 0.05)\n",
    "x0 = 1"
   ]
  },
  {
   "cell_type": "code",
   "execution_count": 116,
   "metadata": {
    "collapsed": false
   },
   "outputs": [
    {
     "name": "stdout",
     "output_type": "stream",
     "text": [
      "[ 1.99999999]\n",
      "[ 1.94999999]\n",
      "[ 1.89999999]\n",
      "[ 1.84999998]\n",
      "[ 1.79999998]\n",
      "[ 1.74999999]\n",
      "[ 1.69999999]\n",
      "[ 1.64999999]\n",
      "[ 1.59999999]\n",
      "[ 1.54999998]\n",
      "[ 1.49999999]\n",
      "[ 1.44999999]\n",
      "[ 1.39999999]\n",
      "[ 1.34999999]\n",
      "[ 1.3]\n",
      "[ 1.24999999]\n",
      "[ 1.19999999]\n",
      "[ 1.14999999]\n",
      "[ 1.09999999]\n",
      "[ 1.05]\n",
      "[ 1.]\n",
      "[ 0.94999999]\n",
      "[ 0.90000001]\n",
      "[ 0.84999999]\n",
      "[ 0.79999998]\n",
      "[ 0.75]\n",
      "[ 0.69999999]\n",
      "[ 0.65000001]\n",
      "[ 0.59999999]\n",
      "[ 0.54999998]\n",
      "[ 0.5]\n",
      "[ 0.44999999]\n",
      "[ 0.40000001]\n",
      "[ 0.34999999]\n",
      "[ 0.30000001]\n",
      "[ 0.25]\n",
      "[ 0.19999999]\n",
      "[ 0.15000001]\n",
      "[ 0.09999999]\n",
      "[ 0.05000001]\n"
     ]
    }
   ],
   "source": [
    "for i in df:\n",
    "    res = minimize(lambda x : x + 1 - (2 - i)*np.log(x), x0)\n",
    "    print(res.x)"
   ]
  },
  {
   "cell_type": "code",
   "execution_count": 46,
   "metadata": {
    "collapsed": false
   },
   "outputs": [
    {
     "data": {
      "text/plain": [
       "0.0"
      ]
     },
     "execution_count": 46,
     "metadata": {},
     "output_type": "execute_result"
    }
   ],
   "source": [
    "from math import *\n",
    "log(1)"
   ]
  },
  {
   "cell_type": "code",
   "execution_count": null,
   "metadata": {
    "collapsed": true
   },
   "outputs": [],
   "source": []
  }
 ],
 "metadata": {
  "anaconda-cloud": {},
  "kernelspec": {
   "display_name": "Python [conda root]",
   "language": "python",
   "name": "conda-root-py"
  },
  "language_info": {
   "codemirror_mode": {
    "name": "ipython",
    "version": 3
   },
   "file_extension": ".py",
   "mimetype": "text/x-python",
   "name": "python",
   "nbconvert_exporter": "python",
   "pygments_lexer": "ipython3",
   "version": "3.5.2"
  },
  "toc": {
   "nav_menu": {
    "height": "30px",
    "width": "252px"
   },
   "navigate_menu": true,
   "number_sections": true,
   "sideBar": true,
   "threshold": 4,
   "toc_cell": false,
   "toc_section_display": "block",
   "toc_window_display": false
  }
 },
 "nbformat": 4,
 "nbformat_minor": 1
}
