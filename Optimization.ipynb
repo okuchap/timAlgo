{
 "cells": [
  {
   "cell_type": "markdown",
   "metadata": {},
   "source": [
    "# 非線形最適化\n",
    "\n",
    "目的関数が1変数関数のときの最急降下法を実装してみる。"
   ]
  },
  {
   "cell_type": "code",
   "execution_count": 31,
   "metadata": {
    "collapsed": true
   },
   "outputs": [],
   "source": [
    "def backTrack(f, df, x, d, alpha=10, rho=0.5, c1=0.01):\n",
    "    while(f(x + alpha*d) > f(x) + c1 * df(x) * d * alpha):\n",
    "        alpha = rho*alpha\n",
    "    return alpha\n",
    "\n",
    "def grad(f, x0, df=None, eps=0.001):\n",
    "    '''\n",
    "    Parameters\n",
    "    ----------\n",
    "    f: objective function\n",
    "    x0: initial point\n",
    "    df: derivative\n",
    "    eps: epsilon\n",
    "    \n",
    "    Return\n",
    "    ------\n",
    "    x^*: minimizer\n",
    "    '''\n",
    "    while(abs(df(x0)) > eps):\n",
    "        if df == None:\n",
    "            df = lambda x0: (f(x0)+f(x0+0.01))/0.01\n",
    "        d = -df(x0)\n",
    "        alpha = backTrack(f, df, x0, d)\n",
    "        x0 = x0 + alpha*d\n",
    "    return x0"
   ]
  },
  {
   "cell_type": "code",
   "execution_count": 6,
   "metadata": {
    "collapsed": true
   },
   "outputs": [],
   "source": [
    "f = lambda x: x**2"
   ]
  },
  {
   "cell_type": "code",
   "execution_count": 3,
   "metadata": {
    "collapsed": false
   },
   "outputs": [
    {
     "data": {
      "text/plain": [
       "4"
      ]
     },
     "execution_count": 3,
     "metadata": {},
     "output_type": "execute_result"
    }
   ],
   "source": [
    "f(2)"
   ]
  },
  {
   "cell_type": "code",
   "execution_count": 32,
   "metadata": {
    "collapsed": false
   },
   "outputs": [
    {
     "data": {
      "text/plain": [
       "-0.0003814697265625"
      ]
     },
     "execution_count": 32,
     "metadata": {},
     "output_type": "execute_result"
    }
   ],
   "source": [
    "grad(f, 100, df=lambda x: 2*x)"
   ]
  },
  {
   "cell_type": "code",
   "execution_count": 33,
   "metadata": {
    "collapsed": true
   },
   "outputs": [],
   "source": [
    "import numpy as np\n",
    "from scipy.optimize import minimize, newton"
   ]
  },
  {
   "cell_type": "code",
   "execution_count": 38,
   "metadata": {
    "collapsed": false
   },
   "outputs": [
    {
     "data": {
      "text/plain": [
       "      fun: 5.552074997367714e-17\n",
       " hess_inv: array([[ 0.50000004]])\n",
       "      jac: array([ -1.28826571e-12])\n",
       "  message: 'Optimization terminated successfully.'\n",
       "     nfev: 21\n",
       "      nit: 4\n",
       "     njev: 7\n",
       "   status: 0\n",
       "  success: True\n",
       "        x: array([ -7.45122473e-09])"
      ]
     },
     "execution_count": 38,
     "metadata": {},
     "output_type": "execute_result"
    }
   ],
   "source": [
    "minimize(f,100)"
   ]
  },
  {
   "cell_type": "markdown",
   "metadata": {},
   "source": [
    "## 2変数のも作ってみる"
   ]
  },
  {
   "cell_type": "code",
   "execution_count": 40,
   "metadata": {
    "collapsed": false
   },
   "outputs": [],
   "source": [
    "g = lambda x, y: x + 2*y"
   ]
  },
  {
   "cell_type": "code",
   "execution_count": 41,
   "metadata": {
    "collapsed": false
   },
   "outputs": [
    {
     "data": {
      "text/plain": [
       "5"
      ]
     },
     "execution_count": 41,
     "metadata": {},
     "output_type": "execute_result"
    }
   ],
   "source": [
    "g(1,2)"
   ]
  },
  {
   "cell_type": "code",
   "execution_count": 1,
   "metadata": {
    "collapsed": true
   },
   "outputs": [],
   "source": [
    "def backTrack(f, df, x, d, alpha=10, rho=0.5, c1=0.01):\n",
    "    while(f(x + alpha*d) > f(x) + c1 * np.dot(df(x), d) * alpha):\n",
    "        alpha = rho*alpha\n",
    "    return alpha\n",
    "\n",
    "def grad(f, x0, df=None, eps=0.001):\n",
    "    '''\n",
    "    Parameters\n",
    "    ----------\n",
    "    f: objective function\n",
    "    x0: initial point\n",
    "    df: derivative\n",
    "    eps: epsilon\n",
    "    \n",
    "    Return\n",
    "    ------\n",
    "    x^*: minimizer\n",
    "    '''\n",
    "    while(np.linalg.norm(df(x0)) > eps):\n",
    "        d = -df(x0)\n",
    "        alpha = backTrack(f, df, x0, d)\n",
    "        x0 = x0 + alpha*d\n",
    "    return x0"
   ]
  },
  {
   "cell_type": "code",
   "execution_count": 2,
   "metadata": {
    "collapsed": true
   },
   "outputs": [],
   "source": [
    "import numpy as np\n",
    "l = 10\n",
    "def f(z):\n",
    "    x = z[0]\n",
    "    y = z[1]\n",
    "    val = - x - y - l * (np.log((-1/3)*x-y+1) + np.log(-3*x-y+3) + np.log(x) + np.log(y) )\n",
    "    return val\n",
    "\n",
    "def df(z):\n",
    "    x = z[0]\n",
    "    y = z[1]\n",
    "    val = [ (1 + l * (-1/(-x-3*y+3) - 3/(-3*x-y+3) + 1/x)), (1 + l * (-3/-x-3*y+3 - 1/(-3*x-y+3) + 1/y)) ]\n",
    "    return np.array(val)"
   ]
  },
  {
   "cell_type": "code",
   "execution_count": 3,
   "metadata": {
    "collapsed": false
   },
   "outputs": [
    {
     "data": {
      "text/plain": [
       "23.849066497880003"
      ]
     },
     "execution_count": 3,
     "metadata": {},
     "output_type": "execute_result"
    }
   ],
   "source": [
    "f([0.5,0.5])"
   ]
  },
  {
   "cell_type": "code",
   "execution_count": 4,
   "metadata": {
    "collapsed": false
   },
   "outputs": [
    {
     "data": {
      "text/plain": [
       "array([-19.,  86.])"
      ]
     },
     "execution_count": 4,
     "metadata": {},
     "output_type": "execute_result"
    }
   ],
   "source": [
    "df([0.5,0.5])"
   ]
  },
  {
   "cell_type": "code",
   "execution_count": 6,
   "metadata": {
    "collapsed": false
   },
   "outputs": [
    {
     "ename": "TypeError",
     "evalue": "'numpy.ndarray' object is not callable",
     "output_type": "error",
     "traceback": [
      "\u001b[0;31m---------------------------------------------------------------------------\u001b[0m",
      "\u001b[0;31mTypeError\u001b[0m                                 Traceback (most recent call last)",
      "\u001b[0;32m<ipython-input-6-c5f9226f3b46>\u001b[0m in \u001b[0;36m<module>\u001b[0;34m()\u001b[0m\n\u001b[1;32m      1\u001b[0m \u001b[0mx0\u001b[0m \u001b[0;34m=\u001b[0m \u001b[0mnp\u001b[0m\u001b[0;34m.\u001b[0m\u001b[0marray\u001b[0m\u001b[0;34m(\u001b[0m\u001b[0;34m[\u001b[0m\u001b[0;36m0.5\u001b[0m\u001b[0;34m,\u001b[0m \u001b[0;36m0.5\u001b[0m\u001b[0;34m]\u001b[0m\u001b[0;34m)\u001b[0m\u001b[0;34m\u001b[0m\u001b[0m\n\u001b[0;32m----> 2\u001b[0;31m \u001b[0mgrad\u001b[0m\u001b[0;34m(\u001b[0m\u001b[0mf\u001b[0m\u001b[0;34m,\u001b[0m \u001b[0mdf\u001b[0m\u001b[0;34m,\u001b[0m \u001b[0mx0\u001b[0m\u001b[0;34m)\u001b[0m\u001b[0;34m\u001b[0m\u001b[0m\n\u001b[0m",
      "\u001b[0;32m<ipython-input-1-9579e32e6090>\u001b[0m in \u001b[0;36mgrad\u001b[0;34m(f, x0, df, eps)\u001b[0m\n\u001b[1;32m     17\u001b[0m     \u001b[0mx\u001b[0m\u001b[0;34m^\u001b[0m\u001b[0;34m*\u001b[0m\u001b[0;34m:\u001b[0m \u001b[0mminimizer\u001b[0m\u001b[0;34m\u001b[0m\u001b[0m\n\u001b[1;32m     18\u001b[0m     '''\n\u001b[0;32m---> 19\u001b[0;31m     \u001b[0;32mwhile\u001b[0m\u001b[0;34m(\u001b[0m\u001b[0mnp\u001b[0m\u001b[0;34m.\u001b[0m\u001b[0mlinalg\u001b[0m\u001b[0;34m.\u001b[0m\u001b[0mnorm\u001b[0m\u001b[0;34m(\u001b[0m\u001b[0mdf\u001b[0m\u001b[0;34m(\u001b[0m\u001b[0mx0\u001b[0m\u001b[0;34m)\u001b[0m\u001b[0;34m)\u001b[0m \u001b[0;34m>\u001b[0m \u001b[0meps\u001b[0m\u001b[0;34m)\u001b[0m\u001b[0;34m:\u001b[0m\u001b[0;34m\u001b[0m\u001b[0m\n\u001b[0m\u001b[1;32m     20\u001b[0m         \u001b[0md\u001b[0m \u001b[0;34m=\u001b[0m \u001b[0;34m-\u001b[0m\u001b[0mdf\u001b[0m\u001b[0;34m(\u001b[0m\u001b[0mx0\u001b[0m\u001b[0;34m)\u001b[0m\u001b[0;34m\u001b[0m\u001b[0m\n\u001b[1;32m     21\u001b[0m         \u001b[0malpha\u001b[0m \u001b[0;34m=\u001b[0m \u001b[0mbackTrack\u001b[0m\u001b[0;34m(\u001b[0m\u001b[0mf\u001b[0m\u001b[0;34m,\u001b[0m \u001b[0mdf\u001b[0m\u001b[0;34m,\u001b[0m \u001b[0mx0\u001b[0m\u001b[0;34m,\u001b[0m \u001b[0md\u001b[0m\u001b[0;34m)\u001b[0m\u001b[0;34m\u001b[0m\u001b[0m\n",
      "\u001b[0;31mTypeError\u001b[0m: 'numpy.ndarray' object is not callable"
     ]
    }
   ],
   "source": [
    "x0 = np.array([0.5, 0.5])\n",
    "grad(f, df, x0)"
   ]
  },
  {
   "cell_type": "markdown",
   "metadata": {},
   "source": [
    "# Implementing Simplex Method"
   ]
  },
  {
   "cell_type": "code",
   "execution_count": 101,
   "metadata": {
    "collapsed": true
   },
   "outputs": [],
   "source": [
    "A = np.array([\n",
    "        [1.0,1,2,1,0,0],\n",
    "        [2,0,2,0,1,0],\n",
    "        [2,1,3,0,0,1]\n",
    "    ])\n",
    "c = np.array([3.0,2,4,0,0,0])\n",
    "b = np.array([4.0,5,7])\n",
    "basis = [3,4,5]\n",
    "nonbasis = [0,1,2]\n",
    "\n",
    "n = len(c)\n",
    "m = len(A)"
   ]
  },
  {
   "cell_type": "code",
   "execution_count": 102,
   "metadata": {
    "collapsed": false
   },
   "outputs": [
    {
     "data": {
      "text/plain": [
       "2"
      ]
     },
     "execution_count": 102,
     "metadata": {},
     "output_type": "execute_result"
    }
   ],
   "source": [
    "c_nonbasis = np.array([c[i] if i in nonbasis else -float('inf') for i in range(len(c))])\n",
    "j_pivot = np.argmax(c_nonbasis)\n",
    "j_pivot"
   ]
  },
  {
   "cell_type": "code",
   "execution_count": 103,
   "metadata": {
    "collapsed": false
   },
   "outputs": [
    {
     "data": {
      "text/plain": [
       "0"
      ]
     },
     "execution_count": 103,
     "metadata": {},
     "output_type": "execute_result"
    }
   ],
   "source": [
    "i_pivot = np.argmin(b / A.T[j_pivot])\n",
    "i_pivot"
   ]
  },
  {
   "cell_type": "code",
   "execution_count": 104,
   "metadata": {
    "collapsed": false
   },
   "outputs": [
    {
     "data": {
      "text/plain": [
       "2.0"
      ]
     },
     "execution_count": 104,
     "metadata": {},
     "output_type": "execute_result"
    }
   ],
   "source": [
    "stepsize = np.min(b / A.T[j_pivot])\n",
    "stepsize"
   ]
  },
  {
   "cell_type": "code",
   "execution_count": 105,
   "metadata": {
    "collapsed": false
   },
   "outputs": [
    {
     "data": {
      "text/plain": [
       "8.0"
      ]
     },
     "execution_count": 105,
     "metadata": {},
     "output_type": "execute_result"
    }
   ],
   "source": [
    "stepsize * c[j_pivot]"
   ]
  },
  {
   "cell_type": "code",
   "execution_count": 106,
   "metadata": {
    "collapsed": false
   },
   "outputs": [],
   "source": [
    "# update basis and nonbasis\n",
    "nonbasis.append(basis[i_pivot])\n",
    "nonbasis.remove(j_pivot)\n",
    "basis[i_pivot] = j_pivot"
   ]
  },
  {
   "cell_type": "code",
   "execution_count": 107,
   "metadata": {
    "collapsed": false
   },
   "outputs": [
    {
     "data": {
      "text/plain": [
       "[2, 4, 5]"
      ]
     },
     "execution_count": 107,
     "metadata": {},
     "output_type": "execute_result"
    }
   ],
   "source": [
    "basis"
   ]
  },
  {
   "cell_type": "code",
   "execution_count": 108,
   "metadata": {
    "collapsed": false
   },
   "outputs": [
    {
     "data": {
      "text/plain": [
       "[0, 1, 3]"
      ]
     },
     "execution_count": 108,
     "metadata": {},
     "output_type": "execute_result"
    }
   ],
   "source": [
    "nonbasis"
   ]
  },
  {
   "cell_type": "code",
   "execution_count": 109,
   "metadata": {
    "collapsed": false
   },
   "outputs": [
    {
     "data": {
      "text/plain": [
       "array([ 4.,  5.,  7.])"
      ]
     },
     "execution_count": 109,
     "metadata": {},
     "output_type": "execute_result"
    }
   ],
   "source": [
    "b"
   ]
  },
  {
   "cell_type": "code",
   "execution_count": 110,
   "metadata": {
    "collapsed": false
   },
   "outputs": [
    {
     "data": {
      "text/plain": [
       "array([[ 1.,  1.,  2.,  1.,  0.,  0.],\n",
       "       [ 2.,  0.,  2.,  0.,  1.,  0.],\n",
       "       [ 2.,  1.,  3.,  0.,  0.,  1.]])"
      ]
     },
     "execution_count": 110,
     "metadata": {},
     "output_type": "execute_result"
    }
   ],
   "source": [
    "A"
   ]
  },
  {
   "cell_type": "code",
   "execution_count": 111,
   "metadata": {
    "collapsed": true
   },
   "outputs": [],
   "source": [
    "b[i_pivot], A[i_pivot] = b[i_pivot] / A[i_pivot][j_pivot], A[i_pivot] / A[i_pivot][j_pivot]"
   ]
  },
  {
   "cell_type": "code",
   "execution_count": 91,
   "metadata": {
    "collapsed": false
   },
   "outputs": [
    {
     "data": {
      "text/plain": [
       "array([ 2.,  5.,  7.])"
      ]
     },
     "execution_count": 91,
     "metadata": {},
     "output_type": "execute_result"
    }
   ],
   "source": [
    "b"
   ]
  },
  {
   "cell_type": "code",
   "execution_count": 92,
   "metadata": {
    "collapsed": false
   },
   "outputs": [
    {
     "data": {
      "text/plain": [
       "array([[ 0.5,  0.5,  1. ,  0.5,  0. ,  0. ],\n",
       "       [ 2. ,  0. ,  2. ,  0. ,  1. ,  0. ],\n",
       "       [ 2. ,  1. ,  3. ,  0. ,  0. ,  1. ]])"
      ]
     },
     "execution_count": 92,
     "metadata": {},
     "output_type": "execute_result"
    }
   ],
   "source": [
    "A"
   ]
  },
  {
   "cell_type": "code",
   "execution_count": 112,
   "metadata": {
    "collapsed": false
   },
   "outputs": [],
   "source": [
    "A[i_pivot][j_pivot] = 0"
   ]
  },
  {
   "cell_type": "code",
   "execution_count": 94,
   "metadata": {
    "collapsed": false
   },
   "outputs": [
    {
     "data": {
      "text/plain": [
       "array([[ 0.5,  0.5,  0. ,  0.5,  0. ,  0. ],\n",
       "       [ 2. ,  0. ,  2. ,  0. ,  1. ,  0. ],\n",
       "       [ 2. ,  1. ,  3. ,  0. ,  0. ,  1. ]])"
      ]
     },
     "execution_count": 94,
     "metadata": {},
     "output_type": "execute_result"
    }
   ],
   "source": [
    "A"
   ]
  },
  {
   "cell_type": "code",
   "execution_count": 113,
   "metadata": {
    "collapsed": false
   },
   "outputs": [],
   "source": [
    "for i in range(m):\n",
    "    if i != i_pivot:\n",
    "        A[i] = A[i] - A[i_pivot] * A[i][j_pivot]\n",
    "        b[i] = b[i] - b[i_pivot] * A[i][j_pivot]\n",
    "        A[i][j_pivot] = 0"
   ]
  },
  {
   "cell_type": "code",
   "execution_count": 114,
   "metadata": {
    "collapsed": false
   },
   "outputs": [
    {
     "data": {
      "text/plain": [
       "array([[ 0.5,  0.5,  0. ,  0.5,  0. ,  0. ],\n",
       "       [ 1. , -1. ,  0. , -1. ,  1. ,  0. ],\n",
       "       [ 0.5, -0.5,  0. , -1.5,  0. ,  1. ]])"
      ]
     },
     "execution_count": 114,
     "metadata": {},
     "output_type": "execute_result"
    }
   ],
   "source": [
    "A"
   ]
  },
  {
   "cell_type": "code",
   "execution_count": 97,
   "metadata": {
    "collapsed": false
   },
   "outputs": [
    {
     "data": {
      "text/plain": [
       "array([ 2.,  1.,  1.])"
      ]
     },
     "execution_count": 97,
     "metadata": {},
     "output_type": "execute_result"
    }
   ],
   "source": [
    "b"
   ]
  },
  {
   "cell_type": "code",
   "execution_count": 117,
   "metadata": {
    "collapsed": false
   },
   "outputs": [
    {
     "data": {
      "text/plain": [
       "array([ 1.,  0.,  0., -2.,  0.,  0.])"
      ]
     },
     "execution_count": 117,
     "metadata": {},
     "output_type": "execute_result"
    }
   ],
   "source": [
    "c_new = c - A[i_pivot] * c[j_pivot]\n",
    "c_new[j_pivot] = 0\n",
    "c_new"
   ]
  },
  {
   "cell_type": "code",
   "execution_count": 118,
   "metadata": {
    "collapsed": false
   },
   "outputs": [
    {
     "data": {
      "text/plain": [
       "array([[ 0.5,  0.5,  0. ,  0.5,  0. ,  0. ],\n",
       "       [ 1. , -1. ,  0. , -1. ,  1. ,  0. ],\n",
       "       [ 0.5, -0.5,  0. , -1.5,  0. ,  1. ]])"
      ]
     },
     "execution_count": 118,
     "metadata": {},
     "output_type": "execute_result"
    }
   ],
   "source": [
    "A"
   ]
  },
  {
   "cell_type": "code",
   "execution_count": 119,
   "metadata": {
    "collapsed": false
   },
   "outputs": [
    {
     "data": {
      "text/plain": [
       "array([ 2.,  1.,  1.])"
      ]
     },
     "execution_count": 119,
     "metadata": {},
     "output_type": "execute_result"
    }
   ],
   "source": [
    "b"
   ]
  },
  {
   "cell_type": "code",
   "execution_count": 120,
   "metadata": {
    "collapsed": false
   },
   "outputs": [
    {
     "data": {
      "text/plain": [
       "array([ 3.,  2.,  4.,  0.,  0.,  0.])"
      ]
     },
     "execution_count": 120,
     "metadata": {},
     "output_type": "execute_result"
    }
   ],
   "source": [
    "c"
   ]
  },
  {
   "cell_type": "code",
   "execution_count": 122,
   "metadata": {
    "collapsed": false
   },
   "outputs": [
    {
     "data": {
      "text/plain": [
       "[2, 4, 5]"
      ]
     },
     "execution_count": 122,
     "metadata": {},
     "output_type": "execute_result"
    }
   ],
   "source": [
    "basis"
   ]
  },
  {
   "cell_type": "code",
   "execution_count": 123,
   "metadata": {
    "collapsed": false
   },
   "outputs": [
    {
     "data": {
      "text/plain": [
       "[0, 1, 3]"
      ]
     },
     "execution_count": 123,
     "metadata": {},
     "output_type": "execute_result"
    }
   ],
   "source": [
    "nonbasis"
   ]
  },
  {
   "cell_type": "code",
   "execution_count": 121,
   "metadata": {
    "collapsed": false
   },
   "outputs": [
    {
     "data": {
      "text/plain": [
       "array([  3.,   2., -inf,   0., -inf, -inf])"
      ]
     },
     "execution_count": 121,
     "metadata": {},
     "output_type": "execute_result"
    }
   ],
   "source": [
    "c_nonbasis = np.array([c[i] if i in nonbasis else -float('inf') for i in range(len(c))])\n",
    "c_nonbasis"
   ]
  },
  {
   "cell_type": "code",
   "execution_count": 125,
   "metadata": {
    "collapsed": false
   },
   "outputs": [],
   "source": [
    "j_pivot = np.argmax(c_nonbasis)"
   ]
  },
  {
   "cell_type": "code",
   "execution_count": 126,
   "metadata": {
    "collapsed": false
   },
   "outputs": [
    {
     "data": {
      "text/plain": [
       "1"
      ]
     },
     "execution_count": 126,
     "metadata": {},
     "output_type": "execute_result"
    }
   ],
   "source": [
    "np.argmin(b / A.T[j_pivot])"
   ]
  },
  {
   "cell_type": "code",
   "execution_count": null,
   "metadata": {
    "collapsed": true
   },
   "outputs": [],
   "source": []
  },
  {
   "cell_type": "code",
   "execution_count": null,
   "metadata": {
    "collapsed": true
   },
   "outputs": [],
   "source": []
  },
  {
   "cell_type": "code",
   "execution_count": null,
   "metadata": {
    "collapsed": true
   },
   "outputs": [],
   "source": []
  },
  {
   "cell_type": "code",
   "execution_count": null,
   "metadata": {
    "collapsed": true
   },
   "outputs": [],
   "source": []
  },
  {
   "cell_type": "code",
   "execution_count": 145,
   "metadata": {
    "code_folding": [],
    "collapsed": false
   },
   "outputs": [],
   "source": [
    "import numpy as np\n",
    "\n",
    "\n",
    "def simplex(c, A, b, basis, nonbasis, x=None):\n",
    "    '''\n",
    "    c: n x 1, A: m x n, b = m x 1\n",
    "    x: n x 1, initial value\n",
    "    basis: m x 1, nonbasis: (n-m) x 1\n",
    "\n",
    "    c, A, b, x: numpy array\n",
    "    basis, nonbasis: python list\n",
    "    '''\n",
    "\n",
    "    m = len(A)\n",
    "    n = len(c)\n",
    "\n",
    "    if x is None:\n",
    "        x = np.array([0.0] * n)\n",
    "\n",
    "    optVal = x.dot(c)\n",
    "\n",
    "    # check feasibility\n",
    "    for test in range(m):\n",
    "        if (A.dot(x) > b)[test]:\n",
    "            print('infeasible')\n",
    "            return None\n",
    "\n",
    "    # pivoting\n",
    "    EPSILON = 10**(-5)\n",
    "    TIME = 0\n",
    "    while(np.max(c) > EPSILON):\n",
    "        # choose j_pivot\n",
    "        c_nonbasis = np.array([c[i] if i in nonbasis else -float('inf') for i in range(len(c))])\n",
    "        j_pivot = np.argmax(c_nonbasis)\n",
    "\n",
    "        # check boundedness\n",
    "        a = np.max(A.T[j_pivot])\n",
    "        if a <= 0:\n",
    "            print('unbounded')\n",
    "            return None\n",
    "\n",
    "        # choose pivot\n",
    "        pivot_column = [i / j if j != 0 else float('inf') for i, j in zip(b, A.T[j_pivot])]\n",
    "        # pivot_column = b / A.T[j_pivot] としてもよいがdevided by zero errorがうるさい\n",
    "        pivot_column = [pivot_column[i] if pivot_column[i] >= 0 else float('inf') for i in range(len(pivot_column))]\n",
    "        i_pivot = np.argmin(pivot_column)\n",
    "        stepsize = np.min(pivot_column)\n",
    "        optVal += stepsize * c[j_pivot]\n",
    "\n",
    "        # update basis and nonbasis\n",
    "        nonbasis.append(basis[i_pivot])\n",
    "        nonbasis.remove(j_pivot)\n",
    "        basis[i_pivot] = j_pivot\n",
    "\n",
    "        # update A, b, and c\n",
    "        b[i_pivot], A[i_pivot] = b[i_pivot] / A[i_pivot][j_pivot], A[i_pivot] / A[i_pivot][j_pivot]\n",
    "        A[i_pivot][j_pivot] = 0\n",
    "\n",
    "        for i in range(m):\n",
    "            if i != i_pivot:\n",
    "                A[i] = A[i] - A[i_pivot] * A[i][j_pivot]\n",
    "                b[i] = b[i] - b[i_pivot] * A[i][j_pivot]\n",
    "                A[i][j_pivot] = 0\n",
    "\n",
    "        c = c - A[i_pivot] * c[j_pivot]\n",
    "        c[j_pivot] = 0\n",
    "\n",
    "        # for debugging\n",
    "        TIME += 1\n",
    "        solution = [b[basis.index(i)] if i in basis else 0 for i in range(n)]\n",
    "        print('loop no.{}: val = {}、sol = {}'.format(TIME, optVal, solution))\n",
    "        if TIME > 100:\n",
    "            break\n",
    "\n",
    "\n",
    "    print('opt.val. = {}, opt.sol. = {}'.format(optVal, solution))\n",
    "\n"
   ]
  },
  {
   "cell_type": "code",
   "execution_count": 146,
   "metadata": {
    "collapsed": true
   },
   "outputs": [],
   "source": [
    "A = np.array([\n",
    "        [1.0,1,2,1,0,0],\n",
    "        [2,0,2,0,1,0],\n",
    "        [2,1,3,0,0,1]\n",
    "    ])\n",
    "c = np.array([3.0,2,4,0,0,0])\n",
    "b = np.array([4.0,5,7])\n",
    "basis = [3,4,5]\n",
    "nonbasis = [0,1,2]"
   ]
  },
  {
   "cell_type": "code",
   "execution_count": 147,
   "metadata": {
    "collapsed": false,
    "scrolled": true
   },
   "outputs": [
    {
     "name": "stdout",
     "output_type": "stream",
     "text": [
      "loop no.1: val = 8.0、sol = [0, 0, 2.0, 0, 1.0, 1.0]\n",
      "loop no.2: val = 9.0、sol = [1.0, 0, 1.5, 0, 0, 0.5]\n",
      "loop no.3: val = 10.5、sol = [2.5, 1.5, 0, 0, 0, 0.5]\n",
      "opt.val. = 10.5, opt.sol. = [2.5, 1.5, 0, 0, 0, 0.5]\n"
     ]
    }
   ],
   "source": [
    "simplex(c,A,b,basis,nonbasis)"
   ]
  },
  {
   "cell_type": "code",
   "execution_count": 10,
   "metadata": {
    "collapsed": false
   },
   "outputs": [
    {
     "data": {
      "text/plain": [
       "array([[ 1.,  1.,  2.,  1.,  0.,  0.],\n",
       "       [ 0., -2., -2., -2.,  1.,  0.],\n",
       "       [ 0., -1., -1., -2.,  0.,  1.]])"
      ]
     },
     "execution_count": 10,
     "metadata": {},
     "output_type": "execute_result"
    }
   ],
   "source": [
    "A"
   ]
  },
  {
   "cell_type": "code",
   "execution_count": 9,
   "metadata": {
    "collapsed": false
   },
   "outputs": [
    {
     "data": {
      "text/plain": [
       "array([ 3.,  2.,  4.,  0.,  0.,  0.])"
      ]
     },
     "execution_count": 9,
     "metadata": {},
     "output_type": "execute_result"
    }
   ],
   "source": [
    "c"
   ]
  },
  {
   "cell_type": "code",
   "execution_count": 132,
   "metadata": {
    "collapsed": true
   },
   "outputs": [],
   "source": [
    "test = np.array([2,-1,0,3])\n",
    "test_ = [test[i] if test[i] >= 0 else float('inf') for i in range(len(test))]"
   ]
  },
  {
   "cell_type": "code",
   "execution_count": 133,
   "metadata": {
    "collapsed": false
   },
   "outputs": [
    {
     "data": {
      "text/plain": [
       "[2, inf, 0, 3]"
      ]
     },
     "execution_count": 133,
     "metadata": {},
     "output_type": "execute_result"
    }
   ],
   "source": [
    "test_"
   ]
  },
  {
   "cell_type": "code",
   "execution_count": 136,
   "metadata": {
    "collapsed": false
   },
   "outputs": [],
   "source": [
    "test = np.array([4,5,7])\n",
    "test0 = np.array([2,0,3])\n",
    "test1 = [i/j if j != 0 else float('inf') for i,j in zip(test, test0)]"
   ]
  },
  {
   "cell_type": "code",
   "execution_count": 137,
   "metadata": {
    "collapsed": false
   },
   "outputs": [
    {
     "data": {
      "text/plain": [
       "[2.0, inf, 2.3333333333333335]"
      ]
     },
     "execution_count": 137,
     "metadata": {},
     "output_type": "execute_result"
    }
   ],
   "source": [
    "test1"
   ]
  },
  {
   "cell_type": "code",
   "execution_count": 144,
   "metadata": {
    "collapsed": false
   },
   "outputs": [
    {
     "data": {
      "text/plain": [
       "[0, 0, 5, 3, 0, 4]"
      ]
     },
     "execution_count": 144,
     "metadata": {},
     "output_type": "execute_result"
    }
   ],
   "source": [
    "basis = [2,3,5]\n",
    "b = [5,3,4]\n",
    "sol = [b[basis.index(i)] if i in basis else 0 for i in range(6)]\n",
    "sol"
   ]
  },
  {
   "cell_type": "code",
   "execution_count": null,
   "metadata": {
    "collapsed": true
   },
   "outputs": [],
   "source": []
  }
 ],
 "metadata": {
  "anaconda-cloud": {},
  "kernelspec": {
   "display_name": "Python [conda root]",
   "language": "python",
   "name": "conda-root-py"
  },
  "language_info": {
   "codemirror_mode": {
    "name": "ipython",
    "version": 3
   },
   "file_extension": ".py",
   "mimetype": "text/x-python",
   "name": "python",
   "nbconvert_exporter": "python",
   "pygments_lexer": "ipython3",
   "version": "3.5.2"
  },
  "toc": {
   "nav_menu": {
    "height": "48px",
    "width": "252px"
   },
   "navigate_menu": true,
   "number_sections": true,
   "sideBar": true,
   "threshold": 4,
   "toc_cell": false,
   "toc_section_display": "block",
   "toc_window_display": false
  }
 },
 "nbformat": 4,
 "nbformat_minor": 1
}
